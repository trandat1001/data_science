{
 "cells": [
  {
   "cell_type": "code",
   "execution_count": 103,
   "metadata": {},
   "outputs": [],
   "source": [
    "import pandas as pd\n",
    "import numpy as np\n",
    "import scipy\n",
    "import seaborn as sb\n",
    "import matplotlib.pyplot as plt\n",
    "%config IPCompleter.greedy=True"
   ]
  },
  {
   "cell_type": "markdown",
   "metadata": {},
   "source": [
    "### Description\n",
    "1. Identify the variables\n",
    "2. Univariate Analysis <br>\n",
    "   2.1 We want to predict house price base on columns: LotArea, YearBuilt, 1stFlrSF, 2ndFlrSF, FullBath, BedroomAbvGr, TotRmsAbvGrd. Please analyze these fields\n",
    "3. Bi-variate Analysis\n",
    "4. Missing values\n",
    "5. Outlier values\n"
   ]
  },
  {
   "cell_type": "code",
   "execution_count": 104,
   "metadata": {},
   "outputs": [],
   "source": [
    "dataset = pd.read_csv(\"data/housing_prices/train.csv\")"
   ]
  },
  {
   "cell_type": "code",
   "execution_count": 105,
   "metadata": {},
   "outputs": [
    {
     "name": "stdout",
     "output_type": "stream",
     "text": [
      "<class 'pandas.core.frame.DataFrame'>\n",
      "RangeIndex: 1460 entries, 0 to 1459\n",
      "Data columns (total 81 columns):\n",
      "Id               1460 non-null int64\n",
      "MSSubClass       1460 non-null int64\n",
      "MSZoning         1460 non-null object\n",
      "LotFrontage      1201 non-null float64\n",
      "LotArea          1460 non-null int64\n",
      "Street           1460 non-null object\n",
      "Alley            91 non-null object\n",
      "LotShape         1460 non-null object\n",
      "LandContour      1460 non-null object\n",
      "Utilities        1460 non-null object\n",
      "LotConfig        1460 non-null object\n",
      "LandSlope        1460 non-null object\n",
      "Neighborhood     1460 non-null object\n",
      "Condition1       1460 non-null object\n",
      "Condition2       1460 non-null object\n",
      "BldgType         1460 non-null object\n",
      "HouseStyle       1460 non-null object\n",
      "OverallQual      1460 non-null int64\n",
      "OverallCond      1460 non-null int64\n",
      "YearBuilt        1460 non-null int64\n",
      "YearRemodAdd     1460 non-null int64\n",
      "RoofStyle        1460 non-null object\n",
      "RoofMatl         1460 non-null object\n",
      "Exterior1st      1460 non-null object\n",
      "Exterior2nd      1460 non-null object\n",
      "MasVnrType       1452 non-null object\n",
      "MasVnrArea       1452 non-null float64\n",
      "ExterQual        1460 non-null object\n",
      "ExterCond        1460 non-null object\n",
      "Foundation       1460 non-null object\n",
      "BsmtQual         1423 non-null object\n",
      "BsmtCond         1423 non-null object\n",
      "BsmtExposure     1422 non-null object\n",
      "BsmtFinType1     1423 non-null object\n",
      "BsmtFinSF1       1460 non-null int64\n",
      "BsmtFinType2     1422 non-null object\n",
      "BsmtFinSF2       1460 non-null int64\n",
      "BsmtUnfSF        1460 non-null int64\n",
      "TotalBsmtSF      1460 non-null int64\n",
      "Heating          1460 non-null object\n",
      "HeatingQC        1460 non-null object\n",
      "CentralAir       1460 non-null object\n",
      "Electrical       1459 non-null object\n",
      "1stFlrSF         1460 non-null int64\n",
      "2ndFlrSF         1460 non-null int64\n",
      "LowQualFinSF     1460 non-null int64\n",
      "GrLivArea        1460 non-null int64\n",
      "BsmtFullBath     1460 non-null int64\n",
      "BsmtHalfBath     1460 non-null int64\n",
      "FullBath         1460 non-null int64\n",
      "HalfBath         1460 non-null int64\n",
      "BedroomAbvGr     1460 non-null int64\n",
      "KitchenAbvGr     1460 non-null int64\n",
      "KitchenQual      1460 non-null object\n",
      "TotRmsAbvGrd     1460 non-null int64\n",
      "Functional       1460 non-null object\n",
      "Fireplaces       1460 non-null int64\n",
      "FireplaceQu      770 non-null object\n",
      "GarageType       1379 non-null object\n",
      "GarageYrBlt      1379 non-null float64\n",
      "GarageFinish     1379 non-null object\n",
      "GarageCars       1460 non-null int64\n",
      "GarageArea       1460 non-null int64\n",
      "GarageQual       1379 non-null object\n",
      "GarageCond       1379 non-null object\n",
      "PavedDrive       1460 non-null object\n",
      "WoodDeckSF       1460 non-null int64\n",
      "OpenPorchSF      1460 non-null int64\n",
      "EnclosedPorch    1460 non-null int64\n",
      "3SsnPorch        1460 non-null int64\n",
      "ScreenPorch      1460 non-null int64\n",
      "PoolArea         1460 non-null int64\n",
      "PoolQC           7 non-null object\n",
      "Fence            281 non-null object\n",
      "MiscFeature      54 non-null object\n",
      "MiscVal          1460 non-null int64\n",
      "MoSold           1460 non-null int64\n",
      "YrSold           1460 non-null int64\n",
      "SaleType         1460 non-null object\n",
      "SaleCondition    1460 non-null object\n",
      "SalePrice        1460 non-null int64\n",
      "dtypes: float64(3), int64(35), object(43)\n",
      "memory usage: 924.0+ KB\n"
     ]
    }
   ],
   "source": [
    "dataset.info()"
   ]
  },
  {
   "cell_type": "code",
   "execution_count": 106,
   "metadata": {},
   "outputs": [
    {
     "data": {
      "text/html": [
       "<div>\n",
       "<style scoped>\n",
       "    .dataframe tbody tr th:only-of-type {\n",
       "        vertical-align: middle;\n",
       "    }\n",
       "\n",
       "    .dataframe tbody tr th {\n",
       "        vertical-align: top;\n",
       "    }\n",
       "\n",
       "    .dataframe thead th {\n",
       "        text-align: right;\n",
       "    }\n",
       "</style>\n",
       "<table border=\"1\" class=\"dataframe\">\n",
       "  <thead>\n",
       "    <tr style=\"text-align: right;\">\n",
       "      <th></th>\n",
       "      <th>Id</th>\n",
       "      <th>MSSubClass</th>\n",
       "      <th>MSZoning</th>\n",
       "      <th>LotFrontage</th>\n",
       "      <th>LotArea</th>\n",
       "      <th>Street</th>\n",
       "      <th>Alley</th>\n",
       "      <th>LotShape</th>\n",
       "      <th>LandContour</th>\n",
       "      <th>Utilities</th>\n",
       "      <th>...</th>\n",
       "      <th>PoolArea</th>\n",
       "      <th>PoolQC</th>\n",
       "      <th>Fence</th>\n",
       "      <th>MiscFeature</th>\n",
       "      <th>MiscVal</th>\n",
       "      <th>MoSold</th>\n",
       "      <th>YrSold</th>\n",
       "      <th>SaleType</th>\n",
       "      <th>SaleCondition</th>\n",
       "      <th>SalePrice</th>\n",
       "    </tr>\n",
       "  </thead>\n",
       "  <tbody>\n",
       "    <tr>\n",
       "      <th>0</th>\n",
       "      <td>1</td>\n",
       "      <td>60</td>\n",
       "      <td>RL</td>\n",
       "      <td>65.0</td>\n",
       "      <td>8450</td>\n",
       "      <td>Pave</td>\n",
       "      <td>NaN</td>\n",
       "      <td>Reg</td>\n",
       "      <td>Lvl</td>\n",
       "      <td>AllPub</td>\n",
       "      <td>...</td>\n",
       "      <td>0</td>\n",
       "      <td>NaN</td>\n",
       "      <td>NaN</td>\n",
       "      <td>NaN</td>\n",
       "      <td>0</td>\n",
       "      <td>2</td>\n",
       "      <td>2008</td>\n",
       "      <td>WD</td>\n",
       "      <td>Normal</td>\n",
       "      <td>208500</td>\n",
       "    </tr>\n",
       "    <tr>\n",
       "      <th>1</th>\n",
       "      <td>2</td>\n",
       "      <td>20</td>\n",
       "      <td>RL</td>\n",
       "      <td>80.0</td>\n",
       "      <td>9600</td>\n",
       "      <td>Pave</td>\n",
       "      <td>NaN</td>\n",
       "      <td>Reg</td>\n",
       "      <td>Lvl</td>\n",
       "      <td>AllPub</td>\n",
       "      <td>...</td>\n",
       "      <td>0</td>\n",
       "      <td>NaN</td>\n",
       "      <td>NaN</td>\n",
       "      <td>NaN</td>\n",
       "      <td>0</td>\n",
       "      <td>5</td>\n",
       "      <td>2007</td>\n",
       "      <td>WD</td>\n",
       "      <td>Normal</td>\n",
       "      <td>181500</td>\n",
       "    </tr>\n",
       "    <tr>\n",
       "      <th>2</th>\n",
       "      <td>3</td>\n",
       "      <td>60</td>\n",
       "      <td>RL</td>\n",
       "      <td>68.0</td>\n",
       "      <td>11250</td>\n",
       "      <td>Pave</td>\n",
       "      <td>NaN</td>\n",
       "      <td>IR1</td>\n",
       "      <td>Lvl</td>\n",
       "      <td>AllPub</td>\n",
       "      <td>...</td>\n",
       "      <td>0</td>\n",
       "      <td>NaN</td>\n",
       "      <td>NaN</td>\n",
       "      <td>NaN</td>\n",
       "      <td>0</td>\n",
       "      <td>9</td>\n",
       "      <td>2008</td>\n",
       "      <td>WD</td>\n",
       "      <td>Normal</td>\n",
       "      <td>223500</td>\n",
       "    </tr>\n",
       "    <tr>\n",
       "      <th>3</th>\n",
       "      <td>4</td>\n",
       "      <td>70</td>\n",
       "      <td>RL</td>\n",
       "      <td>60.0</td>\n",
       "      <td>9550</td>\n",
       "      <td>Pave</td>\n",
       "      <td>NaN</td>\n",
       "      <td>IR1</td>\n",
       "      <td>Lvl</td>\n",
       "      <td>AllPub</td>\n",
       "      <td>...</td>\n",
       "      <td>0</td>\n",
       "      <td>NaN</td>\n",
       "      <td>NaN</td>\n",
       "      <td>NaN</td>\n",
       "      <td>0</td>\n",
       "      <td>2</td>\n",
       "      <td>2006</td>\n",
       "      <td>WD</td>\n",
       "      <td>Abnorml</td>\n",
       "      <td>140000</td>\n",
       "    </tr>\n",
       "    <tr>\n",
       "      <th>4</th>\n",
       "      <td>5</td>\n",
       "      <td>60</td>\n",
       "      <td>RL</td>\n",
       "      <td>84.0</td>\n",
       "      <td>14260</td>\n",
       "      <td>Pave</td>\n",
       "      <td>NaN</td>\n",
       "      <td>IR1</td>\n",
       "      <td>Lvl</td>\n",
       "      <td>AllPub</td>\n",
       "      <td>...</td>\n",
       "      <td>0</td>\n",
       "      <td>NaN</td>\n",
       "      <td>NaN</td>\n",
       "      <td>NaN</td>\n",
       "      <td>0</td>\n",
       "      <td>12</td>\n",
       "      <td>2008</td>\n",
       "      <td>WD</td>\n",
       "      <td>Normal</td>\n",
       "      <td>250000</td>\n",
       "    </tr>\n",
       "  </tbody>\n",
       "</table>\n",
       "<p>5 rows × 81 columns</p>\n",
       "</div>"
      ],
      "text/plain": [
       "   Id  MSSubClass MSZoning  LotFrontage  LotArea Street Alley LotShape  \\\n",
       "0   1          60       RL         65.0     8450   Pave   NaN      Reg   \n",
       "1   2          20       RL         80.0     9600   Pave   NaN      Reg   \n",
       "2   3          60       RL         68.0    11250   Pave   NaN      IR1   \n",
       "3   4          70       RL         60.0     9550   Pave   NaN      IR1   \n",
       "4   5          60       RL         84.0    14260   Pave   NaN      IR1   \n",
       "\n",
       "  LandContour Utilities  ... PoolArea PoolQC Fence MiscFeature MiscVal MoSold  \\\n",
       "0         Lvl    AllPub  ...        0    NaN   NaN         NaN       0      2   \n",
       "1         Lvl    AllPub  ...        0    NaN   NaN         NaN       0      5   \n",
       "2         Lvl    AllPub  ...        0    NaN   NaN         NaN       0      9   \n",
       "3         Lvl    AllPub  ...        0    NaN   NaN         NaN       0      2   \n",
       "4         Lvl    AllPub  ...        0    NaN   NaN         NaN       0     12   \n",
       "\n",
       "  YrSold  SaleType  SaleCondition  SalePrice  \n",
       "0   2008        WD         Normal     208500  \n",
       "1   2007        WD         Normal     181500  \n",
       "2   2008        WD         Normal     223500  \n",
       "3   2006        WD        Abnorml     140000  \n",
       "4   2008        WD         Normal     250000  \n",
       "\n",
       "[5 rows x 81 columns]"
      ]
     },
     "execution_count": 106,
     "metadata": {},
     "output_type": "execute_result"
    }
   ],
   "source": [
    "dataset.head()"
   ]
  },
  {
   "cell_type": "code",
   "execution_count": 107,
   "metadata": {},
   "outputs": [
    {
     "name": "stdout",
     "output_type": "stream",
     "text": [
      "Target variable: salePrice\n"
     ]
    }
   ],
   "source": [
    "print(\"Target variable:\", \"salePrice\")"
   ]
  },
  {
   "cell_type": "code",
   "execution_count": 108,
   "metadata": {},
   "outputs": [
    {
     "name": "stdout",
     "output_type": "stream",
     "text": [
      "Predict variable:\n"
     ]
    }
   ],
   "source": [
    "print(\"Predict variable:\")"
   ]
  },
  {
   "cell_type": "code",
   "execution_count": 109,
   "metadata": {},
   "outputs": [
    {
     "data": {
      "text/plain": [
       "'Id, MSSubClass, MSZoning, LotFrontage, LotArea, Street, Alley, LotShape, LandContour, Utilities, LotConfig, LandSlope, Neighborhood, Condition1, Condition2, BldgType, HouseStyle, OverallQual, OverallCond, YearBuilt, YearRemodAdd, RoofStyle, RoofMatl, Exterior1st, Exterior2nd, MasVnrType, MasVnrArea, ExterQual, ExterCond, Foundation, BsmtQual, BsmtCond, BsmtExposure, BsmtFinType1, BsmtFinSF1, BsmtFinType2, BsmtFinSF2, BsmtUnfSF, TotalBsmtSF, Heating, HeatingQC, CentralAir, Electrical, 1stFlrSF, 2ndFlrSF, LowQualFinSF, GrLivArea, BsmtFullBath, BsmtHalfBath, FullBath, HalfBath, BedroomAbvGr, KitchenAbvGr, KitchenQual, TotRmsAbvGrd, Functional, Fireplaces, FireplaceQu, GarageType, GarageYrBlt, GarageFinish, GarageCars, GarageArea, GarageQual, GarageCond, PavedDrive, WoodDeckSF, OpenPorchSF, EnclosedPorch, 3SsnPorch, ScreenPorch, PoolArea, PoolQC, Fence, MiscFeature, MiscVal, MoSold, YrSold, SaleType, SaleCondition'"
      ]
     },
     "execution_count": 109,
     "metadata": {},
     "output_type": "execute_result"
    }
   ],
   "source": [
    "', '.join(dataset.columns[dataset.columns != \"SalePrice\"])"
   ]
  },
  {
   "cell_type": "markdown",
   "metadata": {},
   "source": [
    "# 1. Identify the variables"
   ]
  },
  {
   "cell_type": "markdown",
   "metadata": {},
   "source": [
    "# Data Type"
   ]
  },
  {
   "cell_type": "markdown",
   "metadata": {},
   "source": [
    "### Numeric Type"
   ]
  },
  {
   "cell_type": "code",
   "execution_count": 110,
   "metadata": {},
   "outputs": [
    {
     "data": {
      "text/plain": [
       "'Id, MSSubClass, LotFrontage, LotArea, OverallQual, OverallCond, YearBuilt, YearRemodAdd, MasVnrArea, BsmtFinSF1, BsmtFinSF2, BsmtUnfSF, TotalBsmtSF, 1stFlrSF, 2ndFlrSF, LowQualFinSF, GrLivArea, BsmtFullBath, BsmtHalfBath, FullBath, HalfBath, BedroomAbvGr, KitchenAbvGr, TotRmsAbvGrd, Fireplaces, GarageYrBlt, GarageCars, GarageArea, WoodDeckSF, OpenPorchSF, EnclosedPorch, 3SsnPorch, ScreenPorch, PoolArea, MiscVal, MoSold, YrSold, SalePrice'"
      ]
     },
     "execution_count": 110,
     "metadata": {},
     "output_type": "execute_result"
    }
   ],
   "source": [
    "numbers = [f for f in dataset.columns if dataset.dtypes[f] != 'object']\n",
    "\", \".join(numbers)"
   ]
  },
  {
   "cell_type": "markdown",
   "metadata": {},
   "source": [
    "### Character / String"
   ]
  },
  {
   "cell_type": "code",
   "execution_count": 111,
   "metadata": {},
   "outputs": [
    {
     "data": {
      "text/plain": [
       "'MSZoning, Street, Alley, LotShape, LandContour, Utilities, LotConfig, LandSlope, Neighborhood, Condition1, Condition2, BldgType, HouseStyle, RoofStyle, RoofMatl, Exterior1st, Exterior2nd, MasVnrType, ExterQual, ExterCond, Foundation, BsmtQual, BsmtCond, BsmtExposure, BsmtFinType1, BsmtFinType2, Heating, HeatingQC, CentralAir, Electrical, KitchenQual, Functional, FireplaceQu, GarageType, GarageFinish, GarageQual, GarageCond, PavedDrive, PoolQC, Fence, MiscFeature, SaleType, SaleCondition'"
      ]
     },
     "execution_count": 111,
     "metadata": {},
     "output_type": "execute_result"
    }
   ],
   "source": [
    "objects = [f for f in dataset.columns if dataset.dtypes[f] == 'object']\n",
    "\", \".join(objects)"
   ]
  },
  {
   "cell_type": "markdown",
   "metadata": {},
   "source": [
    "# Variable"
   ]
  },
  {
   "cell_type": "markdown",
   "metadata": {},
   "source": [
    "### Categorical"
   ]
  },
  {
   "cell_type": "code",
   "execution_count": 112,
   "metadata": {},
   "outputs": [
    {
     "name": "stdout",
     "output_type": "stream",
     "text": [
      "1 MSZoning \t 5 ['RL' 'RM' 'C (all)' 'FV' 'RH']\n",
      "2 Street \t 2 ['Pave' 'Grvl']\n",
      "3 Alley \t 3 [nan 'Grvl' 'Pave']\n",
      "4 LotShape \t 4 ['Reg' 'IR1' 'IR2' 'IR3']\n",
      "5 LandContour \t 4 ['Lvl' 'Bnk' 'Low' 'HLS']\n",
      "6 Utilities \t 2 ['AllPub' 'NoSeWa']\n",
      "7 LotConfig \t 5 ['Inside' 'FR2' 'Corner' 'CulDSac' 'FR3']\n",
      "8 LandSlope \t 3 ['Gtl' 'Mod' 'Sev']\n",
      "9 Neighborhood \t 25 ['CollgCr' 'Veenker' 'Crawfor' 'NoRidge' 'Mitchel' 'Somerst' 'NWAmes'\n",
      " 'OldTown' 'BrkSide' 'Sawyer' 'NridgHt' 'NAmes' 'SawyerW' 'IDOTRR'\n",
      " 'MeadowV' 'Edwards' 'Timber' 'Gilbert' 'StoneBr' 'ClearCr' 'NPkVill'\n",
      " 'Blmngtn' 'BrDale' 'SWISU' 'Blueste']\n",
      "10 Condition1 \t 9 ['Norm' 'Feedr' 'PosN' 'Artery' 'RRAe' 'RRNn' 'RRAn' 'PosA' 'RRNe']\n",
      "11 Condition2 \t 8 ['Norm' 'Artery' 'RRNn' 'Feedr' 'PosN' 'PosA' 'RRAn' 'RRAe']\n",
      "12 BldgType \t 5 ['1Fam' '2fmCon' 'Duplex' 'TwnhsE' 'Twnhs']\n",
      "13 HouseStyle \t 8 ['2Story' '1Story' '1.5Fin' '1.5Unf' 'SFoyer' 'SLvl' '2.5Unf' '2.5Fin']\n",
      "14 RoofStyle \t 6 ['Gable' 'Hip' 'Gambrel' 'Mansard' 'Flat' 'Shed']\n",
      "15 RoofMatl \t 8 ['CompShg' 'WdShngl' 'Metal' 'WdShake' 'Membran' 'Tar&Grv' 'Roll'\n",
      " 'ClyTile']\n",
      "16 Exterior1st \t 15 ['VinylSd' 'MetalSd' 'Wd Sdng' 'HdBoard' 'BrkFace' 'WdShing' 'CemntBd'\n",
      " 'Plywood' 'AsbShng' 'Stucco' 'BrkComm' 'AsphShn' 'Stone' 'ImStucc'\n",
      " 'CBlock']\n",
      "17 Exterior2nd \t 16 ['VinylSd' 'MetalSd' 'Wd Shng' 'HdBoard' 'Plywood' 'Wd Sdng' 'CmentBd'\n",
      " 'BrkFace' 'Stucco' 'AsbShng' 'Brk Cmn' 'ImStucc' 'AsphShn' 'Stone'\n",
      " 'Other' 'CBlock']\n",
      "18 MasVnrType \t 5 ['BrkFace' 'None' 'Stone' 'BrkCmn' nan]\n",
      "19 ExterQual \t 4 ['Gd' 'TA' 'Ex' 'Fa']\n",
      "20 ExterCond \t 5 ['TA' 'Gd' 'Fa' 'Po' 'Ex']\n",
      "21 Foundation \t 6 ['PConc' 'CBlock' 'BrkTil' 'Wood' 'Slab' 'Stone']\n",
      "22 BsmtQual \t 5 ['Gd' 'TA' 'Ex' nan 'Fa']\n",
      "23 BsmtCond \t 5 ['TA' 'Gd' nan 'Fa' 'Po']\n",
      "24 BsmtExposure \t 5 ['No' 'Gd' 'Mn' 'Av' nan]\n",
      "25 BsmtFinType1 \t 7 ['GLQ' 'ALQ' 'Unf' 'Rec' 'BLQ' nan 'LwQ']\n",
      "26 BsmtFinType2 \t 7 ['Unf' 'BLQ' nan 'ALQ' 'Rec' 'LwQ' 'GLQ']\n",
      "27 Heating \t 6 ['GasA' 'GasW' 'Grav' 'Wall' 'OthW' 'Floor']\n",
      "28 HeatingQC \t 5 ['Ex' 'Gd' 'TA' 'Fa' 'Po']\n",
      "29 CentralAir \t 2 ['Y' 'N']\n",
      "30 Electrical \t 6 ['SBrkr' 'FuseF' 'FuseA' 'FuseP' 'Mix' nan]\n",
      "31 KitchenQual \t 4 ['Gd' 'TA' 'Ex' 'Fa']\n",
      "32 Functional \t 7 ['Typ' 'Min1' 'Maj1' 'Min2' 'Mod' 'Maj2' 'Sev']\n",
      "33 FireplaceQu \t 6 [nan 'TA' 'Gd' 'Fa' 'Ex' 'Po']\n",
      "34 GarageType \t 7 ['Attchd' 'Detchd' 'BuiltIn' 'CarPort' nan 'Basment' '2Types']\n",
      "35 GarageFinish \t 4 ['RFn' 'Unf' 'Fin' nan]\n",
      "36 GarageQual \t 6 ['TA' 'Fa' 'Gd' nan 'Ex' 'Po']\n",
      "37 GarageCond \t 6 ['TA' 'Fa' nan 'Gd' 'Po' 'Ex']\n",
      "38 PavedDrive \t 3 ['Y' 'N' 'P']\n",
      "39 PoolQC \t 4 [nan 'Ex' 'Fa' 'Gd']\n",
      "40 Fence \t 5 [nan 'MnPrv' 'GdWo' 'GdPrv' 'MnWw']\n",
      "41 MiscFeature \t 5 [nan 'Shed' 'Gar2' 'Othr' 'TenC']\n",
      "42 SaleType \t 9 ['WD' 'New' 'COD' 'ConLD' 'ConLI' 'CWD' 'ConLw' 'Con' 'Oth']\n",
      "43 SaleCondition \t 6 ['Normal' 'Abnorml' 'Partial' 'AdjLand' 'Alloca' 'Family']\n"
     ]
    }
   ],
   "source": [
    "i = 1\n",
    "for obj in objects:\n",
    "    print(i, obj, \"\\t\", len(dataset[obj].unique()), dataset[obj].unique())\n",
    "    i = i + 1"
   ]
  },
  {
   "cell_type": "markdown",
   "metadata": {},
   "source": [
    "### Categorical & Continuous"
   ]
  },
  {
   "cell_type": "code",
   "execution_count": 113,
   "metadata": {},
   "outputs": [
    {
     "name": "stdout",
     "output_type": "stream",
     "text": [
      "MSSubClass \t 15 : [ 60  20  70  50 190  45  90 120  30  85  80 160  75 180  40]\n",
      "LotFrontage \t 111 : [ 65.  80.  68.  60.  84.  85.  75.  nan  51.  50.  70.  91.  72.  66.\n",
      " 101.  57.  44. 110.  98.  47. 108. 112.  74. 115.  61.  48.  33.  52.\n",
      " 100.  24.  89.  63.  76.  81.  95.  69.  21.  32.  78. 121. 122.  40.\n",
      " 105.  73.  77.  64.  94.  34.  90.  55.  88.  82.  71. 120. 107.  92.\n",
      " 134.  62.  86. 141.  97.  54.  41.  79. 174.  99.  67.  83.  43. 103.\n",
      "  93.  30. 129. 140.  35.  37. 118.  87. 116. 150. 111.  49.  96.  59.\n",
      "  36.  56. 102.  58.  38. 109. 130.  53. 137.  45. 106. 104.  42.  39.\n",
      " 144. 114. 128. 149. 313. 168. 182. 138. 160. 152. 124. 153.  46.]\n",
      "OverallQual \t 10 : [ 7  6  8  5  9  4 10  3  1  2]\n",
      "OverallCond \t 9 : [5 8 6 7 4 2 3 9 1]\n",
      "YearBuilt \t 112 : [2003 1976 2001 1915 2000 1993 2004 1973 1931 1939 1965 2005 1962 2006\n",
      " 1960 1929 1970 1967 1958 1930 2002 1968 2007 1951 1957 1927 1920 1966\n",
      " 1959 1994 1954 1953 1955 1983 1975 1997 1934 1963 1981 1964 1999 1972\n",
      " 1921 1945 1982 1998 1956 1948 1910 1995 1991 2009 1950 1961 1977 1985\n",
      " 1979 1885 1919 1990 1969 1935 1988 1971 1952 1936 1923 1924 1984 1926\n",
      " 1940 1941 1987 1986 2008 1908 1892 1916 1932 1918 1912 1947 1925 1900\n",
      " 1980 1989 1992 1949 1880 1928 1978 1922 1996 2010 1946 1913 1937 1942\n",
      " 1938 1974 1893 1914 1906 1890 1898 1904 1882 1875 1911 1917 1872 1905]\n",
      "YearRemodAdd \t 61 : [2003 1976 2002 1970 2000 1995 2005 1973 1950 1965 2006 1962 2007 1960\n",
      " 2001 1967 2004 2008 1997 1959 1990 1955 1983 1980 1966 1963 1987 1964\n",
      " 1972 1996 1998 1989 1953 1956 1968 1981 1992 2009 1982 1961 1993 1999\n",
      " 1985 1979 1977 1969 1958 1991 1971 1952 1975 2010 1984 1986 1994 1988\n",
      " 1954 1957 1951 1978 1974]\n",
      "BsmtFinSF2 \t 144 : [   0   32  668  486   93  491  506  712  362   41  169  869  150  670\n",
      "   28 1080  181  768  215  374  208  441  184  279  306  180  580  690\n",
      "  692  228  125 1063  620  175  820 1474  264  479  147  232  380  544\n",
      "  294  258  121  391  531  344  539  713  210  311 1120  165  532   96\n",
      "  495  174 1127  139  202  645  123  551  219  606  612  480  182  132\n",
      "  336  468  287   35  499  723  119   40  117  239   80  472   64 1057\n",
      "  127  630  128  377  764  345 1085  435  823  500  290  324  634  411\n",
      "  841 1061  466  396  354  149  193  273  465  400  682  557  230  106\n",
      "  791  240  547  469  177  108  600  492  211  168 1031  438  375  144\n",
      "   81  906  608  276  661   68  173  972  105  420  546  334  352  872\n",
      "  110  627  163 1029]\n",
      "LowQualFinSF \t 24 : [  0 360 513 234 528 572 144 392 371 390 420 473 156 515  80  53 232 481\n",
      " 120 514 397 479 205 384]\n",
      "BsmtFullBath \t 4 : [1 0 2 3]\n",
      "BsmtHalfBath \t 3 : [0 1 2]\n",
      "FullBath \t 4 : [2 1 3 0]\n",
      "HalfBath \t 3 : [1 0 2]\n",
      "BedroomAbvGr \t 8 : [3 4 1 2 0 5 6 8]\n",
      "KitchenAbvGr \t 4 : [1 2 3 0]\n",
      "TotRmsAbvGrd \t 12 : [ 8  6  7  9  5 11  4 10 12  3  2 14]\n",
      "Fireplaces \t 4 : [0 1 2 3]\n",
      "GarageYrBlt \t 98 : [2003. 1976. 2001. 1998. 2000. 1993. 2004. 1973. 1931. 1939. 1965. 2005.\n",
      " 1962. 2006. 1960. 1991. 1970. 1967. 1958. 1930. 2002. 1968. 2007. 2008.\n",
      " 1957. 1920. 1966. 1959. 1995. 1954. 1953.   nan 1983. 1977. 1997. 1985.\n",
      " 1963. 1981. 1964. 1999. 1935. 1990. 1945. 1987. 1989. 1915. 1956. 1948.\n",
      " 1974. 2009. 1950. 1961. 1921. 1900. 1979. 1951. 1969. 1936. 1975. 1971.\n",
      " 1923. 1984. 1926. 1955. 1986. 1988. 1916. 1932. 1972. 1918. 1980. 1924.\n",
      " 1996. 1940. 1949. 1994. 1910. 1978. 1982. 1992. 1925. 1941. 2010. 1927.\n",
      " 1947. 1937. 1942. 1938. 1952. 1928. 1922. 1934. 1906. 1914. 1946. 1908.\n",
      " 1929. 1933.]\n",
      "GarageCars \t 5 : [2 3 1 0 4]\n",
      "EnclosedPorch \t 120 : [  0 272 228 205 176  87 172 102  37 144  64 114 202 128 156  44  77 192\n",
      " 140 180 183  39 184  40 552  30 126  96  60 150 120 112 252  52 224 234\n",
      " 244 268 137  24 108 294 177 218 242  91 160 130 169 105  34 248 236  32\n",
      "  80 115 291 116 158 210  36 200  84 148 136 240  54 100 189 293 164 216\n",
      " 239  67  90  56 129  98 143  70 386 154 185 134 196 264 275 230 254  68\n",
      " 194 318  48  94 138 226 174  19 170 220 214 280 190 330 208 145 259  81\n",
      "  42 123 162 286 168  20 301 198 221 212  50  99]\n",
      "3SsnPorch \t 20 : [  0 320 407 130 180 168 140 508 238 245 196 144 182 162  23 216  96 153\n",
      " 290 304]\n",
      "ScreenPorch \t 76 : [  0 176 198 291 252  99 184 168 130 142 192 410 224 266 170 154 153 144\n",
      " 128 259 160 271 234 374 185 182  90 396 140 276 180 161 145 200 122  95\n",
      " 120  60 126 189 260 147 385 287 156 100 216 210 197 204 225 152 175 312\n",
      " 222 265 322 190 233  63  53 143 273 288 263  80 163 116 480 178 440 155\n",
      " 220 119 165  40]\n",
      "PoolArea \t 8 : [  0 512 648 576 555 480 519 738]\n",
      "MiscVal \t 21 : [    0   700   350   500   400   480   450 15500  1200   800  2000   600\n",
      "  3500  1300    54   620   560  1400  8300  1150  2500]\n",
      "MoSold \t 12 : [ 2  5  9 12 10  8 11  4  1  7  3  6]\n",
      "YrSold \t 5 : [2008 2007 2006 2009 2010]\n"
     ]
    }
   ],
   "source": [
    "for col in numbers:\n",
    "    if (len(dataset[col].unique()) < 150):\n",
    "        print(col, \"\\t\", len(dataset[col].unique()), \":\", dataset[col].unique())\n",
    "    "
   ]
  },
  {
   "cell_type": "markdown",
   "metadata": {},
   "source": [
    "# 2. Univariate Analysis following  these columns: 'LotArea', 'YearBuilt', '1stFlrSF', '2ndFlrSF', 'FullBath', 'BedroomAbvGr', 'TotRmsAbvGrd'"
   ]
  },
  {
   "cell_type": "code",
   "execution_count": 114,
   "metadata": {},
   "outputs": [],
   "source": [
    "new_dataset = dataset[['LotArea', 'YearBuilt', '1stFlrSF', '2ndFlrSF', 'FullBath', 'BedroomAbvGr', 'TotRmsAbvGrd']]"
   ]
  },
  {
   "cell_type": "code",
   "execution_count": 115,
   "metadata": {},
   "outputs": [
    {
     "name": "stdout",
     "output_type": "stream",
     "text": [
      "<class 'pandas.core.frame.DataFrame'>\n",
      "RangeIndex: 1460 entries, 0 to 1459\n",
      "Data columns (total 7 columns):\n",
      "LotArea         1460 non-null int64\n",
      "YearBuilt       1460 non-null int64\n",
      "1stFlrSF        1460 non-null int64\n",
      "2ndFlrSF        1460 non-null int64\n",
      "FullBath        1460 non-null int64\n",
      "BedroomAbvGr    1460 non-null int64\n",
      "TotRmsAbvGrd    1460 non-null int64\n",
      "dtypes: int64(7)\n",
      "memory usage: 79.9 KB\n"
     ]
    }
   ],
   "source": [
    "new_dataset.info()"
   ]
  },
  {
   "cell_type": "code",
   "execution_count": 116,
   "metadata": {},
   "outputs": [
    {
     "data": {
      "text/html": [
       "<div>\n",
       "<style scoped>\n",
       "    .dataframe tbody tr th:only-of-type {\n",
       "        vertical-align: middle;\n",
       "    }\n",
       "\n",
       "    .dataframe tbody tr th {\n",
       "        vertical-align: top;\n",
       "    }\n",
       "\n",
       "    .dataframe thead th {\n",
       "        text-align: right;\n",
       "    }\n",
       "</style>\n",
       "<table border=\"1\" class=\"dataframe\">\n",
       "  <thead>\n",
       "    <tr style=\"text-align: right;\">\n",
       "      <th></th>\n",
       "      <th>LotArea</th>\n",
       "      <th>YearBuilt</th>\n",
       "      <th>1stFlrSF</th>\n",
       "      <th>2ndFlrSF</th>\n",
       "      <th>FullBath</th>\n",
       "      <th>BedroomAbvGr</th>\n",
       "      <th>TotRmsAbvGrd</th>\n",
       "    </tr>\n",
       "  </thead>\n",
       "  <tbody>\n",
       "    <tr>\n",
       "      <th>0</th>\n",
       "      <td>8450</td>\n",
       "      <td>2003</td>\n",
       "      <td>856</td>\n",
       "      <td>854</td>\n",
       "      <td>2</td>\n",
       "      <td>3</td>\n",
       "      <td>8</td>\n",
       "    </tr>\n",
       "    <tr>\n",
       "      <th>1</th>\n",
       "      <td>9600</td>\n",
       "      <td>1976</td>\n",
       "      <td>1262</td>\n",
       "      <td>0</td>\n",
       "      <td>2</td>\n",
       "      <td>3</td>\n",
       "      <td>6</td>\n",
       "    </tr>\n",
       "    <tr>\n",
       "      <th>2</th>\n",
       "      <td>11250</td>\n",
       "      <td>2001</td>\n",
       "      <td>920</td>\n",
       "      <td>866</td>\n",
       "      <td>2</td>\n",
       "      <td>3</td>\n",
       "      <td>6</td>\n",
       "    </tr>\n",
       "    <tr>\n",
       "      <th>3</th>\n",
       "      <td>9550</td>\n",
       "      <td>1915</td>\n",
       "      <td>961</td>\n",
       "      <td>756</td>\n",
       "      <td>1</td>\n",
       "      <td>3</td>\n",
       "      <td>7</td>\n",
       "    </tr>\n",
       "    <tr>\n",
       "      <th>4</th>\n",
       "      <td>14260</td>\n",
       "      <td>2000</td>\n",
       "      <td>1145</td>\n",
       "      <td>1053</td>\n",
       "      <td>2</td>\n",
       "      <td>4</td>\n",
       "      <td>9</td>\n",
       "    </tr>\n",
       "  </tbody>\n",
       "</table>\n",
       "</div>"
      ],
      "text/plain": [
       "   LotArea  YearBuilt  1stFlrSF  2ndFlrSF  FullBath  BedroomAbvGr  \\\n",
       "0     8450       2003       856       854         2             3   \n",
       "1     9600       1976      1262         0         2             3   \n",
       "2    11250       2001       920       866         2             3   \n",
       "3     9550       1915       961       756         1             3   \n",
       "4    14260       2000      1145      1053         2             4   \n",
       "\n",
       "   TotRmsAbvGrd  \n",
       "0             8  \n",
       "1             6  \n",
       "2             6  \n",
       "3             7  \n",
       "4             9  "
      ]
     },
     "execution_count": 116,
     "metadata": {},
     "output_type": "execute_result"
    }
   ],
   "source": [
    "new_dataset.head()"
   ]
  },
  {
   "cell_type": "code",
   "execution_count": 117,
   "metadata": {},
   "outputs": [
    {
     "name": "stdout",
     "output_type": "stream",
     "text": [
      "YearBuilt 112 :  [2003 1976 2001 1915 2000 1993 2004 1973 1931 1939 1965 2005 1962 2006\n",
      " 1960 1929 1970 1967 1958 1930 2002 1968 2007 1951 1957 1927 1920 1966\n",
      " 1959 1994 1954 1953 1955 1983 1975 1997 1934 1963 1981 1964 1999 1972\n",
      " 1921 1945 1982 1998 1956 1948 1910 1995 1991 2009 1950 1961 1977 1985\n",
      " 1979 1885 1919 1990 1969 1935 1988 1971 1952 1936 1923 1924 1984 1926\n",
      " 1940 1941 1987 1986 2008 1908 1892 1916 1932 1918 1912 1947 1925 1900\n",
      " 1980 1989 1992 1949 1880 1928 1978 1922 1996 2010 1946 1913 1937 1942\n",
      " 1938 1974 1893 1914 1906 1890 1898 1904 1882 1875 1911 1917 1872 1905]\n",
      "FullBath 4 :  [2 1 3 0]\n",
      "BedroomAbvGr 8 :  [3 4 1 2 0 5 6 8]\n",
      "TotRmsAbvGrd 12 :  [ 8  6  7  9  5 11  4 10 12  3  2 14]\n"
     ]
    }
   ],
   "source": [
    "for col in new_dataset.columns:\n",
    "    if (len(new_dataset[col].unique()) < 150):\n",
    "        print(col, len(new_dataset[col].unique()), \": \", new_dataset[col].unique()) "
   ]
  },
  {
   "cell_type": "markdown",
   "metadata": {},
   "source": [
    "### Continous Data:\n",
    "* LotArea\n",
    "* 1stFlrSF\n",
    "* 2ndFlrSF"
   ]
  },
  {
   "cell_type": "code",
   "execution_count": 118,
   "metadata": {},
   "outputs": [],
   "source": [
    "def continous_analysis(data, col):\n",
    "    colSeri = data[data[col].isnull() != True][col]\n",
    "    \n",
    "    colSkew = colSeri.skew()\n",
    "    colKur = colSeri.kurtosis()\n",
    "    print('*****', col, '*****')\n",
    "    print(col,\"mean:\", colSeri.mean())\n",
    "    print(col,\"median:\", colSeri.median())\n",
    "    print(col, \"mode:\", colSeri.mode().values)\n",
    "    print(col, \"range:\", colSeri.ptp())\n",
    "    print(col, \"variance:\", colSeri.var())\n",
    "    print(col, \"std:\", colSeri.std())\n",
    "    print(col, \"skew:\", colSkew)\n",
    "    print(col, \"kur:\", colKur)\n",
    "    if (colSkew > 0): \n",
    "        print(col, \"phân phối lệch phải\")\n",
    "    elif (colSkew < 0):\n",
    "        print(col, \"phân phối lệch trái\")\n",
    "    else:\n",
    "        print(col, \"phân phối đối xứng\")\n",
    "        \n",
    "    if (colKur > 0): \n",
    "        print(col, \"phân phối nhọn hơn pp chuẩn\")\n",
    "    elif (colKur < 0):\n",
    "        print(col, \"phân phối thấp hơn pp chuẩn\")\n",
    "    else:\n",
    "        print(col, \"phân phối chuẩn\")\n",
    "    \n",
    "    \n",
    "    print(\"\\n\")"
   ]
  },
  {
   "cell_type": "code",
   "execution_count": 119,
   "metadata": {},
   "outputs": [
    {
     "name": "stdout",
     "output_type": "stream",
     "text": [
      "***** LotArea *****\n",
      "LotArea mean: 10516.828082191782\n",
      "LotArea median: 9478.5\n",
      "LotArea mode: [7200]\n",
      "LotArea range: 213945\n",
      "LotArea variance: 99625649.65034176\n",
      "LotArea std: 9981.26493237915\n",
      "LotArea skew: 12.207687851233496\n",
      "LotArea kur: 203.24327101886033\n",
      "LotArea phân phối lệch phải\n",
      "LotArea phân phối nhọn hơn pp chuẩn\n",
      "\n",
      "\n",
      "***** 1stFlrSF *****\n",
      "1stFlrSF mean: 1162.626712328767\n",
      "1stFlrSF median: 1087.0\n",
      "1stFlrSF mode: [864]\n",
      "1stFlrSF range: 4358\n",
      "1stFlrSF variance: 149450.07920371433\n",
      "1stFlrSF std: 386.5877380410744\n",
      "1stFlrSF skew: 1.3767566220336365\n",
      "1stFlrSF kur: 5.74584148244079\n",
      "1stFlrSF phân phối lệch phải\n",
      "1stFlrSF phân phối nhọn hơn pp chuẩn\n",
      "\n",
      "\n",
      "***** 2ndFlrSF *****\n",
      "2ndFlrSF mean: 346.99246575342465\n",
      "2ndFlrSF median: 0.0\n",
      "2ndFlrSF mode: [0]\n",
      "2ndFlrSF range: 2065\n",
      "2ndFlrSF variance: 190557.07533730177\n",
      "2ndFlrSF std: 436.5284358862568\n",
      "2ndFlrSF skew: 0.8130298163023265\n",
      "2ndFlrSF kur: -0.5534635576075795\n",
      "2ndFlrSF phân phối lệch phải\n",
      "2ndFlrSF phân phối thấp hơn pp chuẩn\n",
      "\n",
      "\n"
     ]
    },
    {
     "name": "stderr",
     "output_type": "stream",
     "text": [
      "/home/dat-tran/.local/lib/python3.6/site-packages/ipykernel_launcher.py:10: FutureWarning: Method .ptp is deprecated and will be removed in a future version. Use numpy.ptp instead.\n",
      "  # Remove the CWD from sys.path while we load stuff.\n"
     ]
    }
   ],
   "source": [
    "continous_col = ['LotArea', '1stFlrSF', '2ndFlrSF']\n",
    "continous_data = new_dataset[continous_col]\n",
    "for col in continous_col:\n",
    "    continous_analysis(continous_data, col)"
   ]
  },
  {
   "cell_type": "code",
   "execution_count": 120,
   "metadata": {},
   "outputs": [
    {
     "data": {
      "text/plain": [
       "<matplotlib.axes._subplots.AxesSubplot at 0x7f13df4b1e48>"
      ]
     },
     "execution_count": 120,
     "metadata": {},
     "output_type": "execute_result"
    },
    {
     "data": {
      "image/png": "[encoded data removed]",
      "text/plain": [
       "<Figure size 1080x1800 with 6 Axes>"
      ]
     },
     "metadata": {
      "needs_background": "light"
     },
     "output_type": "display_data"
    }
   ],
   "source": [
    "plt.figure(figsize=(15,25))\n",
    "plt.subplot(3,2,1)\n",
    "sb.distplot(continous_data['LotArea'])\n",
    "plt.subplot(3,2,2)\n",
    "sb.boxplot(continous_data['LotArea'], orient=\"v\")\n",
    "plt.subplot(3,2,3)\n",
    "sb.distplot(continous_data['1stFlrSF'])\n",
    "plt.subplot(3,2,4)\n",
    "sb.boxplot(continous_data['1stFlrSF'], orient=\"v\")\n",
    "plt.subplot(3,2,5)\n",
    "sb.distplot(continous_data['2ndFlrSF'])\n",
    "plt.subplot(3,2,6)\n",
    "sb.boxplot(continous_data['2ndFlrSF'], orient=\"v\")"
   ]
  },
  {
   "cell_type": "code",
   "execution_count": 141,
   "metadata": {},
   "outputs": [],
   "source": [
    "def continous_outlier(data, col):\n",
    "    q1 = np.percentile(data[col], 25)\n",
    "    q3 = np.percentile(data[col], 75)\n",
    "    iqr = scipy.stats.iqr(data[col])\n",
    "    upper = data[data[col] > (q3 + 1.5 * iqr)]\n",
    "    lower = data[data[col] < (q1 - 1.5 * iqr)]\n",
    "    outlier_per = np.round((len(upper) + len(lower)) / len(data), 4) * 100\n",
    "    print(col, \"upper count:\", len(upper))\n",
    "    print(col, \"lower count:\", len(lower))\n",
    "    print(col, \"outlier on total:\", outlier_per, \"%\")\n",
    "    print(col, \"upper outier are:\", upper[col].values)\n",
    "    print(col, \"lower outier are:\", lower[col].values)"
   ]
  },
  {
   "cell_type": "code",
   "execution_count": 142,
   "metadata": {},
   "outputs": [
    {
     "name": "stdout",
     "output_type": "stream",
     "text": [
      "------------------------------------\n",
      "LotArea upper count: 67\n",
      "LotArea lower count: 2\n",
      "LotArea outlier on total: 4.73 %\n",
      "LotArea upper outier are: [ 50271  19900  21000  21453  19378  31770  22950  25419 159000  19296\n",
      "  39104  19138  18386 215245 164660  20431  18800  53107  34650  22420\n",
      "  21750  70761  53227  40094  32668  21872  21780  25095  46589  20896\n",
      "  18450  21535  26178 115149  21695  53504  21384  28698  45600  17920\n",
      "  25286  27650  24090  25000  21286  21750  29959  18000  23257  17755\n",
      "  35760  18030  35133  32463  18890  24682  23595  17871  36500  63887\n",
      "  20781  25339  57200  20544  19690  21930  26142]\n",
      "LotArea lower outier are: [1300 1477]\n",
      "------------------------------------\n",
      "1stFlrSF upper count: 20\n",
      "1stFlrSF lower count: 0\n",
      "1stFlrSF outlier on total: 1.37 %\n",
      "1stFlrSF upper outier are: [2207 2223 2259 2158 2234 2392 2402 3228 3138 2515 2444 2217 2364 2898\n",
      " 2524 2411 2196 4692 2156 2633]\n",
      "1stFlrSF lower outier are: []\n",
      "------------------------------------\n",
      "2ndFlrSF upper count: 2\n",
      "2ndFlrSF lower count: 0\n",
      "2ndFlrSF outlier on total: 0.13999999999999999 %\n",
      "2ndFlrSF upper outier are: [1872 2065]\n",
      "2ndFlrSF lower outier are: []\n"
     ]
    }
   ],
   "source": [
    "for col in continous_col:\n",
    "    print(\"------------------------------------\")\n",
    "    continous_outlier(continous_data, col)\n",
    "    "
   ]
  },
  {
   "cell_type": "markdown",
   "metadata": {},
   "source": [
    "### Categorical Data:\n",
    "* YearBuilt\n",
    "* FullBath\n",
    "* BedroomAbvGr\n",
    "* TotRmsAbvGrd"
   ]
  },
  {
   "cell_type": "code",
   "execution_count": 123,
   "metadata": {},
   "outputs": [],
   "source": [
    "category_col = [\"YearBuilt\", \"FullBath\", \"BedroomAbvGr\", \"TotRmsAbvGrd\"]"
   ]
  },
  {
   "cell_type": "code",
   "execution_count": 124,
   "metadata": {},
   "outputs": [
    {
     "data": {
      "text/plain": [
       "2006    67\n",
       "2005    64\n",
       "2004    54\n",
       "2007    49\n",
       "2003    45\n",
       "Name: YearBuilt, dtype: int64"
      ]
     },
     "execution_count": 124,
     "metadata": {},
     "output_type": "execute_result"
    }
   ],
   "source": [
    "yearBuiltGroupBy = dataset.YearBuilt.value_counts()\n",
    "yearBuiltGroupBy.head()"
   ]
  },
  {
   "cell_type": "code",
   "execution_count": 125,
   "metadata": {},
   "outputs": [
    {
     "data": {
      "text/plain": [
       "<matplotlib.axes._subplots.AxesSubplot at 0x7f13df50abe0>"
      ]
     },
     "execution_count": 125,
     "metadata": {},
     "output_type": "execute_result"
    },
    {
     "data": {
      "image/png": "[encoded data removed]",
      "text/plain": [
       "<Figure size 1800x2160 with 1 Axes>"
      ]
     },
     "metadata": {
      "needs_background": "light"
     },
     "output_type": "display_data"
    }
   ],
   "source": [
    "plt.figure(figsize=(25,30))\n",
    "sb.barplot(x = yearBuiltGroupBy.values, y = yearBuiltGroupBy.index, orient=\"h\")"
   ]
  },
  {
   "cell_type": "code",
   "execution_count": 126,
   "metadata": {},
   "outputs": [
    {
     "data": {
      "text/plain": [
       "2    768\n",
       "1    650\n",
       "3     33\n",
       "0      9\n",
       "Name: FullBath, dtype: int64"
      ]
     },
     "execution_count": 126,
     "metadata": {},
     "output_type": "execute_result"
    }
   ],
   "source": [
    "fullBathCount = dataset.FullBath.value_counts()\n",
    "fullBathCount"
   ]
  },
  {
   "cell_type": "code",
   "execution_count": 127,
   "metadata": {},
   "outputs": [
    {
     "data": {
      "text/plain": [
       "<matplotlib.axes._subplots.AxesSubplot at 0x7f13defa0d30>"
      ]
     },
     "execution_count": 127,
     "metadata": {},
     "output_type": "execute_result"
    },
    {
     "data": {
      "image/png": "[encoded data removed]",
      "text/plain": [
       "<Figure size 432x288 with 1 Axes>"
      ]
     },
     "metadata": {
      "needs_background": "light"
     },
     "output_type": "display_data"
    }
   ],
   "source": [
    "sb.barplot(x = fullBathCount.index, y = fullBathCount.values)"
   ]
  },
  {
   "cell_type": "code",
   "execution_count": 128,
   "metadata": {},
   "outputs": [
    {
     "data": {
      "text/plain": [
       "3    804\n",
       "2    358\n",
       "4    213\n",
       "1     50\n",
       "5     21\n",
       "6      7\n",
       "0      6\n",
       "8      1\n",
       "Name: BedroomAbvGr, dtype: int64"
      ]
     },
     "execution_count": 128,
     "metadata": {},
     "output_type": "execute_result"
    }
   ],
   "source": [
    "bedRoomCount = dataset.BedroomAbvGr.value_counts()\n",
    "bedRoomCount"
   ]
  },
  {
   "cell_type": "code",
   "execution_count": 129,
   "metadata": {},
   "outputs": [
    {
     "data": {
      "text/plain": [
       "<matplotlib.axes._subplots.AxesSubplot at 0x7f13dee95c18>"
      ]
     },
     "execution_count": 129,
     "metadata": {},
     "output_type": "execute_result"
    },
    {
     "data": {
      "image/png": "[encoded data removed]",
      "text/plain": [
       "<Figure size 432x288 with 1 Axes>"
      ]
     },
     "metadata": {
      "needs_background": "light"
     },
     "output_type": "display_data"
    }
   ],
   "source": [
    "sb.barplot(x = bedRoomCount.index, y = bedRoomCount.values)"
   ]
  },
  {
   "cell_type": "code",
   "execution_count": 130,
   "metadata": {},
   "outputs": [
    {
     "data": {
      "text/plain": [
       "6     402\n",
       "7     329\n",
       "5     275\n",
       "8     187\n",
       "4      97\n",
       "9      75\n",
       "10     47\n",
       "11     18\n",
       "3      17\n",
       "12     11\n",
       "14      1\n",
       "2       1\n",
       "Name: TotRmsAbvGrd, dtype: int64"
      ]
     },
     "execution_count": 130,
     "metadata": {},
     "output_type": "execute_result"
    }
   ],
   "source": [
    "totRmCount = dataset.TotRmsAbvGrd.value_counts()\n",
    "totRmCount"
   ]
  },
  {
   "cell_type": "code",
   "execution_count": 131,
   "metadata": {},
   "outputs": [
    {
     "data": {
      "text/plain": [
       "<matplotlib.axes._subplots.AxesSubplot at 0x7f13dee064e0>"
      ]
     },
     "execution_count": 131,
     "metadata": {},
     "output_type": "execute_result"
    },
    {
     "data": {
      "image/png": "[encoded data removed]",
      "text/plain": [
       "<Figure size 432x288 with 1 Axes>"
      ]
     },
     "metadata": {
      "needs_background": "light"
     },
     "output_type": "display_data"
    }
   ],
   "source": [
    "sb.barplot(x = totRmCount.index, y = totRmCount.values)"
   ]
  },
  {
   "cell_type": "code",
   "execution_count": null,
   "metadata": {},
   "outputs": [],
   "source": []
  },
  {
   "cell_type": "code",
   "execution_count": null,
   "metadata": {},
   "outputs": [],
   "source": []
  },
  {
   "cell_type": "code",
   "execution_count": null,
   "metadata": {},
   "outputs": [],
   "source": []
  },
  {
   "cell_type": "code",
   "execution_count": null,
   "metadata": {},
   "outputs": [],
   "source": []
  },
  {
   "cell_type": "code",
   "execution_count": null,
   "metadata": {},
   "outputs": [],
   "source": []
  },
  {
   "cell_type": "code",
   "execution_count": null,
   "metadata": {},
   "outputs": [],
   "source": []
  },
  {
   "cell_type": "code",
   "execution_count": null,
   "metadata": {},
   "outputs": [],
   "source": []
  }
 ],
 "metadata": {
  "kernelspec": {
   "display_name": "Python 3",
   "language": "python",
   "name": "python3"
  },
  "language_info": {
   "codemirror_mode": {
    "name": "ipython",
    "version": 3
   },
   "file_extension": ".py",
   "mimetype": "text/x-python",
   "name": "python",
   "nbconvert_exporter": "python",
   "pygments_lexer": "ipython3",
   "version": "3.6.5"
  }
 },
 "nbformat": 4,
 "nbformat_minor": 2
}
