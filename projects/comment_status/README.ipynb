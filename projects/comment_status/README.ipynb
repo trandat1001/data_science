{
 "cells": [
  {
   "cell_type": "markdown",
   "metadata": {},
   "source": [
    "### This is the solution for contest \"Classify the user's comment\" on https://www.aivivn.com/contests/1\n",
    "#### Problem:\n",
    "All comments here are collected from some ecommerce sites. Each comment will have status is positive(1) or negative(0). We need to build a model to learning these data and predict whether a new comment postive or negative.\n",
    "#### Data Decription: \n",
    "We have two files **data/train.crash** and **data/test.crash**. The file **train.crash** contain comment and its status(1 is positive or 0 is negative). The file **test.crash** contain comment, we need to use this file and predict its status(positive or negative). All predict results from **test.crash** file will be saved in *.csv file with format as below: <br/>\n",
    "id,label <br/>\n",
    "test_000000,0 <br/>\n",
    "test_000001,1 <br/>\n",
    "test_000002,0 <br/>\n",
    ".....\n"
   ]
  },
  {
   "cell_type": "code",
   "execution_count": null,
   "metadata": {},
   "outputs": [],
   "source": []
  }
 ],
 "metadata": {
  "kernelspec": {
   "display_name": "Python 3",
   "language": "python",
   "name": "python3"
  },
  "language_info": {
   "codemirror_mode": {
    "name": "ipython",
    "version": 3
   },
   "file_extension": ".py",
   "mimetype": "text/x-python",
   "name": "python",
   "nbconvert_exporter": "python",
   "pygments_lexer": "ipython3",
   "version": "3.6.5"
  }
 },
 "nbformat": 4,
 "nbformat_minor": 2
}
