{
 "cells": [
  {
   "cell_type": "code",
   "execution_count": 17,
   "metadata": {},
   "outputs": [],
   "source": [
    "import pandas as pd\n",
    "import numpy as np\n",
    "from datetime import datetime\n",
    "import matplotlib.pyplot as plt\n",
    "import seaborn as sb\n",
    "from sklearn.model_selection import train_test_split\n",
    "import lib as lib"
   ]
  },
  {
   "cell_type": "code",
   "execution_count": 18,
   "metadata": {},
   "outputs": [],
   "source": [
    "dataset = pd.read_csv(\"data/train.csv\")"
   ]
  },
  {
   "cell_type": "code",
   "execution_count": 19,
   "metadata": {},
   "outputs": [
    {
     "name": "stdout",
     "output_type": "stream",
     "text": [
      "<class 'pandas.core.frame.DataFrame'>\n",
      "RangeIndex: 35544 entries, 0 to 35543\n",
      "Data columns (total 5 columns):\n",
      "UPDATE_TIME        35544 non-null object\n",
      "ZONE_CODE          35544 non-null object\n",
      "HOUR_ID            35544 non-null int64\n",
      "BANDWIDTH_TOTAL    35544 non-null float64\n",
      "MAX_USER           35544 non-null float64\n",
      "dtypes: float64(2), int64(1), object(2)\n",
      "memory usage: 1.4+ MB\n"
     ]
    }
   ],
   "source": [
    "dataset.info()"
   ]
  },
  {
   "cell_type": "code",
   "execution_count": 20,
   "metadata": {},
   "outputs": [
    {
     "data": {
      "text/html": [
       "<div>\n",
       "<style scoped>\n",
       "    .dataframe tbody tr th:only-of-type {\n",
       "        vertical-align: middle;\n",
       "    }\n",
       "\n",
       "    .dataframe tbody tr th {\n",
       "        vertical-align: top;\n",
       "    }\n",
       "\n",
       "    .dataframe thead th {\n",
       "        text-align: right;\n",
       "    }\n",
       "</style>\n",
       "<table border=\"1\" class=\"dataframe\">\n",
       "  <thead>\n",
       "    <tr style=\"text-align: right;\">\n",
       "      <th></th>\n",
       "      <th>UPDATE_TIME</th>\n",
       "      <th>ZONE_CODE</th>\n",
       "      <th>HOUR_ID</th>\n",
       "      <th>BANDWIDTH_TOTAL</th>\n",
       "      <th>MAX_USER</th>\n",
       "    </tr>\n",
       "  </thead>\n",
       "  <tbody>\n",
       "    <tr>\n",
       "      <th>0</th>\n",
       "      <td>2017-10-01</td>\n",
       "      <td>ZONE01</td>\n",
       "      <td>0</td>\n",
       "      <td>16096.710313</td>\n",
       "      <td>212415.0</td>\n",
       "    </tr>\n",
       "    <tr>\n",
       "      <th>1</th>\n",
       "      <td>2017-10-01</td>\n",
       "      <td>ZONE01</td>\n",
       "      <td>1</td>\n",
       "      <td>9374.207907</td>\n",
       "      <td>166362.0</td>\n",
       "    </tr>\n",
       "    <tr>\n",
       "      <th>2</th>\n",
       "      <td>2017-10-01</td>\n",
       "      <td>ZONE01</td>\n",
       "      <td>2</td>\n",
       "      <td>5606.225750</td>\n",
       "      <td>146370.0</td>\n",
       "    </tr>\n",
       "    <tr>\n",
       "      <th>3</th>\n",
       "      <td>2017-10-01</td>\n",
       "      <td>ZONE01</td>\n",
       "      <td>3</td>\n",
       "      <td>4155.654661</td>\n",
       "      <td>141270.0</td>\n",
       "    </tr>\n",
       "    <tr>\n",
       "      <th>4</th>\n",
       "      <td>2017-10-01</td>\n",
       "      <td>ZONE01</td>\n",
       "      <td>4</td>\n",
       "      <td>3253.978594</td>\n",
       "      <td>139689.0</td>\n",
       "    </tr>\n",
       "    <tr>\n",
       "      <th>5</th>\n",
       "      <td>2017-10-01</td>\n",
       "      <td>ZONE01</td>\n",
       "      <td>5</td>\n",
       "      <td>4310.774522</td>\n",
       "      <td>165342.0</td>\n",
       "    </tr>\n",
       "    <tr>\n",
       "      <th>6</th>\n",
       "      <td>2017-10-01</td>\n",
       "      <td>ZONE01</td>\n",
       "      <td>6</td>\n",
       "      <td>10015.599874</td>\n",
       "      <td>221901.0</td>\n",
       "    </tr>\n",
       "    <tr>\n",
       "      <th>7</th>\n",
       "      <td>2017-10-01</td>\n",
       "      <td>ZONE01</td>\n",
       "      <td>7</td>\n",
       "      <td>19780.995631</td>\n",
       "      <td>302736.0</td>\n",
       "    </tr>\n",
       "    <tr>\n",
       "      <th>8</th>\n",
       "      <td>2017-10-01</td>\n",
       "      <td>ZONE01</td>\n",
       "      <td>8</td>\n",
       "      <td>24344.875025</td>\n",
       "      <td>336600.0</td>\n",
       "    </tr>\n",
       "    <tr>\n",
       "      <th>9</th>\n",
       "      <td>2017-10-01</td>\n",
       "      <td>ZONE01</td>\n",
       "      <td>9</td>\n",
       "      <td>28651.427689</td>\n",
       "      <td>356235.0</td>\n",
       "    </tr>\n",
       "  </tbody>\n",
       "</table>\n",
       "</div>"
      ],
      "text/plain": [
       "  UPDATE_TIME ZONE_CODE  HOUR_ID  BANDWIDTH_TOTAL  MAX_USER\n",
       "0  2017-10-01    ZONE01        0     16096.710313  212415.0\n",
       "1  2017-10-01    ZONE01        1      9374.207907  166362.0\n",
       "2  2017-10-01    ZONE01        2      5606.225750  146370.0\n",
       "3  2017-10-01    ZONE01        3      4155.654661  141270.0\n",
       "4  2017-10-01    ZONE01        4      3253.978594  139689.0\n",
       "5  2017-10-01    ZONE01        5      4310.774522  165342.0\n",
       "6  2017-10-01    ZONE01        6     10015.599874  221901.0\n",
       "7  2017-10-01    ZONE01        7     19780.995631  302736.0\n",
       "8  2017-10-01    ZONE01        8     24344.875025  336600.0\n",
       "9  2017-10-01    ZONE01        9     28651.427689  356235.0"
      ]
     },
     "execution_count": 20,
     "metadata": {},
     "output_type": "execute_result"
    }
   ],
   "source": [
    "dataset.head(10)"
   ]
  },
  {
   "cell_type": "code",
   "execution_count": 21,
   "metadata": {},
   "outputs": [
    {
     "data": {
      "text/plain": [
       "array(['ZONE01', 'ZONE03', 'ZONE02'], dtype=object)"
      ]
     },
     "execution_count": 21,
     "metadata": {},
     "output_type": "execute_result"
    }
   ],
   "source": [
    "zone_code_unique = pd.Series.unique(dataset.ZONE_CODE)\n",
    "zone_code_unique"
   ]
  },
  {
   "cell_type": "code",
   "execution_count": 22,
   "metadata": {},
   "outputs": [
    {
     "data": {
      "text/plain": [
       "array([ 0,  1,  2,  3,  4,  5,  6,  7,  8,  9, 10, 11, 12, 13, 14, 15, 16,\n",
       "       17, 18, 19, 20, 21, 22, 23])"
      ]
     },
     "execution_count": 22,
     "metadata": {},
     "output_type": "execute_result"
    }
   ],
   "source": [
    "hour_id_unique = pd.Series.unique(dataset.HOUR_ID)\n",
    "hour_id_unique"
   ]
  },
  {
   "cell_type": "code",
   "execution_count": 23,
   "metadata": {},
   "outputs": [
    {
     "data": {
      "text/plain": [
       "array(['2017-10-01', '2017-10-02', '2017-10-03', '2017-10-04',\n",
       "       '2017-10-05', '2017-10-06', '2017-10-07', '2017-10-08',\n",
       "       '2017-10-09', '2017-10-10', '2017-10-11', '2017-10-12',\n",
       "       '2017-10-13', '2017-10-14', '2017-10-15', '2017-10-16',\n",
       "       '2017-10-17', '2017-10-18', '2017-10-19', '2017-10-20',\n",
       "       '2017-10-21', '2017-10-22', '2017-10-23', '2017-10-24',\n",
       "       '2017-10-25', '2017-10-26', '2017-10-27', '2017-10-28',\n",
       "       '2017-10-29', '2017-10-30', '2017-10-31', '2017-11-01',\n",
       "       '2017-11-02', '2017-11-03', '2017-11-04', '2017-11-05',\n",
       "       '2017-11-06', '2017-11-07', '2017-11-08', '2017-11-09',\n",
       "       '2017-11-10', '2017-11-11', '2017-11-12', '2017-11-13',\n",
       "       '2017-11-14', '2017-11-15', '2017-11-16', '2017-11-17',\n",
       "       '2017-11-18', '2017-11-19', '2017-11-20', '2017-11-21',\n",
       "       '2017-11-22', '2017-11-23', '2017-11-24', '2017-11-25',\n",
       "       '2017-11-26', '2017-11-27', '2017-11-28', '2017-11-29',\n",
       "       '2017-11-30', '2017-12-01', '2017-12-02', '2017-12-03',\n",
       "       '2017-12-04', '2017-12-05', '2017-12-06', '2017-12-07',\n",
       "       '2017-12-08', '2017-12-09', '2017-12-10', '2017-12-11',\n",
       "       '2017-12-12', '2017-12-13', '2017-12-14', '2017-12-15',\n",
       "       '2017-12-16', '2017-12-17', '2017-12-18', '2017-12-19',\n",
       "       '2017-12-20', '2017-12-21', '2017-12-22', '2017-12-23',\n",
       "       '2017-12-24', '2017-12-25', '2017-12-26', '2017-12-27',\n",
       "       '2017-12-28', '2017-12-29', '2017-12-30', '2017-12-31',\n",
       "       '2018-01-01', '2018-01-02', '2018-01-03', '2018-01-04',\n",
       "       '2018-01-05', '2018-01-06', '2018-01-07', '2018-01-08',\n",
       "       '2018-01-09', '2018-01-10', '2018-01-11', '2018-01-12',\n",
       "       '2018-01-13', '2018-01-14', '2018-01-15', '2018-01-16',\n",
       "       '2018-01-17', '2018-01-18', '2018-01-19', '2018-01-20',\n",
       "       '2018-01-21', '2018-01-22', '2018-01-23', '2018-01-24',\n",
       "       '2018-01-25', '2018-01-26', '2018-01-27', '2018-01-28',\n",
       "       '2018-01-29', '2018-01-30', '2018-01-31', '2018-02-01',\n",
       "       '2018-02-02', '2018-02-03', '2018-02-04', '2018-02-05',\n",
       "       '2018-02-06', '2018-02-07', '2018-02-08', '2018-02-09',\n",
       "       '2018-02-10', '2018-02-11', '2018-02-12', '2018-02-13',\n",
       "       '2018-02-14', '2018-02-15', '2018-02-16', '2018-02-17',\n",
       "       '2018-02-18', '2018-02-19', '2018-02-20', '2018-02-21',\n",
       "       '2018-02-22', '2018-02-23', '2018-02-24', '2018-02-25',\n",
       "       '2018-02-26', '2018-02-27', '2018-02-28', '2018-03-01',\n",
       "       '2018-03-02', '2018-03-03', '2018-03-04', '2018-03-05',\n",
       "       '2018-03-06', '2018-03-07', '2018-03-08', '2018-03-09',\n",
       "       '2018-03-10', '2018-03-11', '2018-03-12', '2018-03-13',\n",
       "       '2018-03-14', '2018-03-15', '2018-03-16', '2018-03-17',\n",
       "       '2018-03-18', '2018-03-19', '2018-03-20', '2018-03-21',\n",
       "       '2018-03-22', '2018-03-23', '2018-03-24', '2018-03-25',\n",
       "       '2018-03-26', '2018-03-27', '2018-03-28', '2018-03-29',\n",
       "       '2018-03-30', '2018-03-31', '2018-04-01', '2018-04-02',\n",
       "       '2018-04-03', '2018-04-04', '2018-04-05', '2018-04-06',\n",
       "       '2018-04-07', '2018-04-08', '2018-04-09', '2018-04-10',\n",
       "       '2018-04-11', '2018-04-12', '2018-04-13', '2018-04-14',\n",
       "       '2018-04-15', '2018-04-16', '2018-04-17', '2018-04-18',\n",
       "       '2018-04-19', '2018-04-20', '2018-04-21', '2018-04-22',\n",
       "       '2018-04-23', '2018-04-24', '2018-04-25', '2018-04-26',\n",
       "       '2018-04-27', '2018-04-28', '2018-04-29', '2018-04-30',\n",
       "       '2018-05-01', '2018-05-02', '2018-05-03', '2018-05-04',\n",
       "       '2018-05-05', '2018-05-06', '2018-05-07', '2018-05-08',\n",
       "       '2018-05-09', '2018-05-10', '2018-05-11', '2018-05-12',\n",
       "       '2018-05-13', '2018-05-14', '2018-05-15', '2018-05-16',\n",
       "       '2018-05-17', '2018-05-18', '2018-05-19', '2018-05-20',\n",
       "       '2018-05-21', '2018-05-22', '2018-05-23', '2018-05-24',\n",
       "       '2018-05-25', '2018-05-26', '2018-05-27', '2018-05-28',\n",
       "       '2018-05-29', '2018-05-30', '2018-05-31', '2018-06-01',\n",
       "       '2018-06-02', '2018-06-03', '2018-06-04', '2018-06-05',\n",
       "       '2018-06-06', '2018-06-07', '2018-06-08', '2018-06-09',\n",
       "       '2018-06-10', '2018-06-11', '2018-06-12', '2018-06-13',\n",
       "       '2018-06-14', '2018-06-15', '2018-06-16', '2018-06-17',\n",
       "       '2018-06-18', '2018-06-19', '2018-06-20', '2018-06-21',\n",
       "       '2018-06-22', '2018-06-23', '2018-06-24', '2018-06-25',\n",
       "       '2018-06-26', '2018-06-27', '2018-06-28', '2018-06-29',\n",
       "       '2018-06-30', '2018-07-01', '2018-07-02', '2018-07-03',\n",
       "       '2018-07-04', '2018-07-05', '2018-07-06', '2018-07-07',\n",
       "       '2018-07-08', '2018-07-09', '2018-07-10', '2018-07-11',\n",
       "       '2018-07-12', '2018-07-13', '2018-07-14', '2018-07-15',\n",
       "       '2018-07-16', '2018-07-17', '2018-07-18', '2018-07-19',\n",
       "       '2018-07-20', '2018-07-21', '2018-07-22', '2018-07-23',\n",
       "       '2018-07-24', '2018-07-25', '2018-07-26', '2018-07-27',\n",
       "       '2018-07-28', '2018-07-29', '2018-07-30', '2018-07-31',\n",
       "       '2018-08-01', '2018-08-02', '2018-08-03', '2018-08-04',\n",
       "       '2018-08-05', '2018-08-06', '2018-08-07', '2018-08-08',\n",
       "       '2018-08-09', '2018-08-10', '2018-08-11', '2018-08-12',\n",
       "       '2018-08-13', '2018-08-14', '2018-08-15', '2018-08-16',\n",
       "       '2018-08-17', '2018-08-18', '2018-08-19', '2018-08-20',\n",
       "       '2018-08-21', '2018-08-22', '2018-08-23', '2018-08-24',\n",
       "       '2018-08-25', '2018-08-26', '2018-08-27', '2018-08-28',\n",
       "       '2018-08-29', '2018-08-30', '2018-08-31', '2018-09-01',\n",
       "       '2018-09-02', '2018-09-03', '2018-09-04', '2018-09-05',\n",
       "       '2018-09-06', '2018-09-07', '2018-09-08', '2018-09-09',\n",
       "       '2018-09-10', '2018-09-11', '2018-09-12', '2018-09-13',\n",
       "       '2018-09-14', '2018-09-15', '2018-09-16', '2018-09-17',\n",
       "       '2018-09-18', '2018-09-19', '2018-09-20', '2018-09-21',\n",
       "       '2018-09-22', '2018-09-23', '2018-09-24', '2018-09-25',\n",
       "       '2018-09-26', '2018-09-27', '2018-09-28', '2018-09-29',\n",
       "       '2018-09-30', '2018-10-01', '2018-10-02', '2018-10-03',\n",
       "       '2018-10-04', '2018-10-05', '2018-10-06', '2018-10-07',\n",
       "       '2018-10-08', '2018-10-09', '2018-10-10', '2018-10-11',\n",
       "       '2018-10-12', '2018-10-13', '2018-10-14', '2018-10-15',\n",
       "       '2018-10-16', '2018-10-17', '2018-10-18', '2018-10-19',\n",
       "       '2018-10-20', '2018-10-21', '2018-10-22', '2018-10-23',\n",
       "       '2018-10-24', '2018-10-25', '2018-10-26', '2018-10-27',\n",
       "       '2018-10-28', '2018-10-29', '2018-10-30', '2018-10-31',\n",
       "       '2018-11-01', '2018-11-02', '2018-11-03', '2018-11-04',\n",
       "       '2018-11-05', '2018-11-06', '2018-11-07', '2018-11-08',\n",
       "       '2018-11-09', '2018-11-10', '2018-11-11', '2018-11-12',\n",
       "       '2018-11-13', '2018-11-14', '2018-11-15', '2018-11-16',\n",
       "       '2018-11-17', '2018-11-18', '2018-11-19', '2018-11-20',\n",
       "       '2018-11-21', '2018-11-22', '2018-11-23', '2018-11-24',\n",
       "       '2018-11-25', '2018-11-26', '2018-11-27', '2018-11-28',\n",
       "       '2018-11-29', '2018-11-30', '2018-12-01', '2018-12-02',\n",
       "       '2018-12-03', '2018-12-04', '2018-12-05', '2018-12-06',\n",
       "       '2018-12-07', '2018-12-08', '2018-12-09', '2018-12-10',\n",
       "       '2018-12-11', '2018-12-12', '2018-12-13', '2018-12-14',\n",
       "       '2018-12-15', '2018-12-16', '2018-12-17', '2018-12-18',\n",
       "       '2018-12-19', '2018-12-20', '2018-12-21', '2018-12-22',\n",
       "       '2018-12-23', '2018-12-24', '2018-12-25', '2018-12-26',\n",
       "       '2018-12-27', '2018-12-28', '2018-12-29', '2018-12-30',\n",
       "       '2018-12-31', '2019-01-01', '2019-01-02', '2019-01-03',\n",
       "       '2019-01-04', '2019-01-05', '2019-01-06', '2019-01-07',\n",
       "       '2019-01-08', '2019-01-09', '2019-01-10', '2019-01-11',\n",
       "       '2019-01-12', '2019-01-13', '2019-01-14', '2019-01-15',\n",
       "       '2019-01-16', '2019-01-17', '2019-01-18', '2019-01-19',\n",
       "       '2019-01-20', '2019-01-21', '2019-01-22', '2019-01-23',\n",
       "       '2019-01-24', '2019-01-25', '2019-01-26', '2019-01-27',\n",
       "       '2019-01-28', '2019-01-29', '2019-01-30', '2019-01-31',\n",
       "       '2019-02-01', '2019-02-02', '2019-02-03', '2019-02-04',\n",
       "       '2019-02-05', '2019-02-06', '2019-02-07', '2019-02-08',\n",
       "       '2019-02-09', '2019-02-10', '2019-02-11', '2019-02-12',\n",
       "       '2019-02-13', '2019-02-14', '2019-02-15', '2019-02-16',\n",
       "       '2019-02-17', '2019-02-18', '2019-02-19', '2019-02-20',\n",
       "       '2019-02-21', '2019-02-22', '2019-02-23', '2019-02-24',\n",
       "       '2019-02-25', '2019-02-26', '2019-02-27', '2019-02-28',\n",
       "       '2019-03-01', '2019-03-02', '2019-03-03', '2019-03-04',\n",
       "       '2019-03-05', '2019-03-06', '2019-03-07', '2019-03-08',\n",
       "       '2019-03-09'], dtype=object)"
      ]
     },
     "execution_count": 23,
     "metadata": {},
     "output_type": "execute_result"
    }
   ],
   "source": [
    "update_time_unique = pd.Series.unique(dataset.UPDATE_TIME)\n",
    "update_time_unique"
   ]
  },
  {
   "cell_type": "code",
   "execution_count": 24,
   "metadata": {},
   "outputs": [],
   "source": [
    "def convert_datetime_to_timestamp(strDate):\n",
    "    #timestamp = datetime.strptime(strDate, \"%Y-%m-%d\")\n",
    "    timestamp = pd.Timestamp(strDate)\n",
    "    \n",
    "    return timestamp.timestamp()\n",
    "\n",
    "def get_date_in_month(strDate):\n",
    "    #timestamp = datetime.strptime(strDate, \"%Y-%m-%d\")\n",
    "    dt = pd.to_datetime(strDate)\n",
    "    \n",
    "    return dt.day\n",
    "\n",
    "def get_date_in_week(strDate):\n",
    "    #timestamp = datetime.strptime(strDate, \"%Y-%m-%d\")\n",
    "    dt = pd.to_datetime(strDate)\n",
    "    \n",
    "    return dt.dayofweek\n",
    "\n",
    "def hour_to_shift(hour):\n",
    "    return hour // 8\n",
    "\n",
    "dataset.ZONE_CODE = dataset.ZONE_CODE.map({'ZONE01' : 1, 'ZONE03' : 3, 'ZONE02' : 2})\n",
    "dataset['DATE_IN_MONTH'] =  dataset.UPDATE_TIME.map(get_date_in_month).astype('int32')\n",
    "dataset['DATE_IN_WEEK'] =  dataset.UPDATE_TIME.map(get_date_in_week).astype('int32')\n",
    "dataset['DAY_SHIFT'] =  dataset.HOUR_ID.map(hour_to_shift).astype('int32')\n",
    "dataset.UPDATE_TIME = dataset.UPDATE_TIME.map(convert_datetime_to_timestamp).astype('int32')\n"
   ]
  },
  {
   "cell_type": "code",
   "execution_count": 25,
   "metadata": {},
   "outputs": [
    {
     "data": {
      "image/png": "[encoded data removed]",
      "text/plain": [
       "<Figure size 1440x720 with 1 Axes>"
      ]
     },
     "metadata": {
      "needs_background": "light"
     },
     "output_type": "display_data"
    }
   ],
   "source": [
    "plt.figure(figsize=(20,10))\n",
    "zone_colors =  {\n",
    "    1: 'red', \n",
    "    2: 'green', \n",
    "    3: 'blue'\n",
    "}\n",
    "zone_label = {\n",
    "    1: \"ZONE01\",\n",
    "    2: \"ZONE02\",\n",
    "    3: \"ZONE01\",\n",
    "}\n",
    "for  zone, color in zone_colors.items():\n",
    "    x = dataset[dataset.ZONE_CODE == zone].BANDWIDTH_TOTAL\n",
    "    y = dataset[dataset.ZONE_CODE == zone].MAX_USER\n",
    "    plt.scatter(x, y, c = color, label = zone_label[zone])\n",
    "\n",
    "plt.xscale('log')\n",
    "plt.xlabel(\"Brandwidth Total\")\n",
    "plt.ylabel(\"Max User\")\n",
    "plt.legend(loc=\"best\", title=\"Information\")\n",
    "plt.show()"
   ]
  },
  {
   "cell_type": "raw",
   "metadata": {},
   "source": [
    "count_zone_code = dataset.ZONE_CODE.value_counts()\n",
    "plt.pie(count_zone_code, labels=zone_code_unique, autopct=\"%.0f%%\", shadow=True)"
   ]
  },
  {
   "cell_type": "code",
   "execution_count": 26,
   "metadata": {},
   "outputs": [
    {
     "data": {
      "text/plain": [
       "<matplotlib.axes._subplots.AxesSubplot at 0x7f7b2ab6c860>"
      ]
     },
     "execution_count": 26,
     "metadata": {},
     "output_type": "execute_result"
    },
    {
     "data": {
      "image/png": "[encoded data removed]",
      "text/plain": [
       "<Figure size 432x288 with 1 Axes>"
      ]
     },
     "metadata": {
      "needs_background": "light"
     },
     "output_type": "display_data"
    }
   ],
   "source": [
    "group_by_zone = dataset.groupby([\"ZONE_CODE\"]).sum()\n",
    "sb.barplot(group_by_zone.index, group_by_zone['BANDWIDTH_TOTAL'])"
   ]
  },
  {
   "cell_type": "code",
   "execution_count": 27,
   "metadata": {},
   "outputs": [
    {
     "data": {
      "text/plain": [
       "<matplotlib.axes._subplots.AxesSubplot at 0x7f7b2b4ced30>"
      ]
     },
     "execution_count": 27,
     "metadata": {},
     "output_type": "execute_result"
    },
    {
     "data": {
      "image/png": "[encoded data removed]",
      "text/plain": [
       "<Figure size 432x288 with 1 Axes>"
      ]
     },
     "metadata": {
      "needs_background": "light"
     },
     "output_type": "display_data"
    }
   ],
   "source": [
    "sb.barplot(group_by_zone.index, group_by_zone['MAX_USER'])"
   ]
  },
  {
   "cell_type": "code",
   "execution_count": 28,
   "metadata": {},
   "outputs": [
    {
     "data": {
      "text/plain": [
       "<matplotlib.collections.PathCollection at 0x7f7b2b436240>"
      ]
     },
     "execution_count": 28,
     "metadata": {},
     "output_type": "execute_result"
    },
    {
     "data": {
      "image/png": "[encoded data removed]",
      "text/plain": [
       "<Figure size 432x288 with 1 Axes>"
      ]
     },
     "metadata": {
      "needs_background": "light"
     },
     "output_type": "display_data"
    }
   ],
   "source": [
    "plt.scatter(dataset.BANDWIDTH_TOTAL, dataset.MAX_USER)"
   ]
  },
  {
   "cell_type": "markdown",
   "metadata": {},
   "source": [
    "#### From four graphs above, almost bandwidth and user are focus on Zone Code 1. There are a positive related between Max user and bandwidth at all Zone code."
   ]
  },
  {
   "cell_type": "code",
   "execution_count": 29,
   "metadata": {},
   "outputs": [
    {
     "data": {
      "text/html": [
       "<div>\n",
       "<style scoped>\n",
       "    .dataframe tbody tr th:only-of-type {\n",
       "        vertical-align: middle;\n",
       "    }\n",
       "\n",
       "    .dataframe tbody tr th {\n",
       "        vertical-align: top;\n",
       "    }\n",
       "\n",
       "    .dataframe thead th {\n",
       "        text-align: right;\n",
       "    }\n",
       "</style>\n",
       "<table border=\"1\" class=\"dataframe\">\n",
       "  <thead>\n",
       "    <tr style=\"text-align: right;\">\n",
       "      <th></th>\n",
       "      <th>UPDATE_TIME</th>\n",
       "      <th>ZONE_CODE</th>\n",
       "      <th>HOUR_ID</th>\n",
       "      <th>BANDWIDTH_TOTAL</th>\n",
       "      <th>MAX_USER</th>\n",
       "      <th>DATE_IN_MONTH</th>\n",
       "      <th>DATE_IN_WEEK</th>\n",
       "      <th>DAY_SHIFT</th>\n",
       "    </tr>\n",
       "  </thead>\n",
       "  <tbody>\n",
       "    <tr>\n",
       "      <th>0</th>\n",
       "      <td>1506816000</td>\n",
       "      <td>1</td>\n",
       "      <td>0</td>\n",
       "      <td>16096.710313</td>\n",
       "      <td>212415.0</td>\n",
       "      <td>1</td>\n",
       "      <td>6</td>\n",
       "      <td>0</td>\n",
       "    </tr>\n",
       "    <tr>\n",
       "      <th>1</th>\n",
       "      <td>1506816000</td>\n",
       "      <td>1</td>\n",
       "      <td>1</td>\n",
       "      <td>9374.207907</td>\n",
       "      <td>166362.0</td>\n",
       "      <td>1</td>\n",
       "      <td>6</td>\n",
       "      <td>0</td>\n",
       "    </tr>\n",
       "    <tr>\n",
       "      <th>2</th>\n",
       "      <td>1506816000</td>\n",
       "      <td>1</td>\n",
       "      <td>2</td>\n",
       "      <td>5606.225750</td>\n",
       "      <td>146370.0</td>\n",
       "      <td>1</td>\n",
       "      <td>6</td>\n",
       "      <td>0</td>\n",
       "    </tr>\n",
       "    <tr>\n",
       "      <th>3</th>\n",
       "      <td>1506816000</td>\n",
       "      <td>1</td>\n",
       "      <td>3</td>\n",
       "      <td>4155.654661</td>\n",
       "      <td>141270.0</td>\n",
       "      <td>1</td>\n",
       "      <td>6</td>\n",
       "      <td>0</td>\n",
       "    </tr>\n",
       "    <tr>\n",
       "      <th>4</th>\n",
       "      <td>1506816000</td>\n",
       "      <td>1</td>\n",
       "      <td>4</td>\n",
       "      <td>3253.978594</td>\n",
       "      <td>139689.0</td>\n",
       "      <td>1</td>\n",
       "      <td>6</td>\n",
       "      <td>0</td>\n",
       "    </tr>\n",
       "    <tr>\n",
       "      <th>5</th>\n",
       "      <td>1506816000</td>\n",
       "      <td>1</td>\n",
       "      <td>5</td>\n",
       "      <td>4310.774522</td>\n",
       "      <td>165342.0</td>\n",
       "      <td>1</td>\n",
       "      <td>6</td>\n",
       "      <td>0</td>\n",
       "    </tr>\n",
       "    <tr>\n",
       "      <th>6</th>\n",
       "      <td>1506816000</td>\n",
       "      <td>1</td>\n",
       "      <td>6</td>\n",
       "      <td>10015.599874</td>\n",
       "      <td>221901.0</td>\n",
       "      <td>1</td>\n",
       "      <td>6</td>\n",
       "      <td>0</td>\n",
       "    </tr>\n",
       "    <tr>\n",
       "      <th>7</th>\n",
       "      <td>1506816000</td>\n",
       "      <td>1</td>\n",
       "      <td>7</td>\n",
       "      <td>19780.995631</td>\n",
       "      <td>302736.0</td>\n",
       "      <td>1</td>\n",
       "      <td>6</td>\n",
       "      <td>0</td>\n",
       "    </tr>\n",
       "    <tr>\n",
       "      <th>8</th>\n",
       "      <td>1506816000</td>\n",
       "      <td>1</td>\n",
       "      <td>8</td>\n",
       "      <td>24344.875025</td>\n",
       "      <td>336600.0</td>\n",
       "      <td>1</td>\n",
       "      <td>6</td>\n",
       "      <td>1</td>\n",
       "    </tr>\n",
       "    <tr>\n",
       "      <th>9</th>\n",
       "      <td>1506816000</td>\n",
       "      <td>1</td>\n",
       "      <td>9</td>\n",
       "      <td>28651.427689</td>\n",
       "      <td>356235.0</td>\n",
       "      <td>1</td>\n",
       "      <td>6</td>\n",
       "      <td>1</td>\n",
       "    </tr>\n",
       "  </tbody>\n",
       "</table>\n",
       "</div>"
      ],
      "text/plain": [
       "   UPDATE_TIME  ZONE_CODE  HOUR_ID  BANDWIDTH_TOTAL  MAX_USER  DATE_IN_MONTH  \\\n",
       "0   1506816000          1        0     16096.710313  212415.0              1   \n",
       "1   1506816000          1        1      9374.207907  166362.0              1   \n",
       "2   1506816000          1        2      5606.225750  146370.0              1   \n",
       "3   1506816000          1        3      4155.654661  141270.0              1   \n",
       "4   1506816000          1        4      3253.978594  139689.0              1   \n",
       "5   1506816000          1        5      4310.774522  165342.0              1   \n",
       "6   1506816000          1        6     10015.599874  221901.0              1   \n",
       "7   1506816000          1        7     19780.995631  302736.0              1   \n",
       "8   1506816000          1        8     24344.875025  336600.0              1   \n",
       "9   1506816000          1        9     28651.427689  356235.0              1   \n",
       "\n",
       "   DATE_IN_WEEK  DAY_SHIFT  \n",
       "0             6          0  \n",
       "1             6          0  \n",
       "2             6          0  \n",
       "3             6          0  \n",
       "4             6          0  \n",
       "5             6          0  \n",
       "6             6          0  \n",
       "7             6          0  \n",
       "8             6          1  \n",
       "9             6          1  "
      ]
     },
     "execution_count": 29,
     "metadata": {},
     "output_type": "execute_result"
    }
   ],
   "source": [
    "dataset.head(10)"
   ]
  },
  {
   "cell_type": "code",
   "execution_count": 30,
   "metadata": {},
   "outputs": [
    {
     "data": {
      "text/plain": [
       "<matplotlib.axes._subplots.AxesSubplot at 0x7f7b2b3eac50>"
      ]
     },
     "execution_count": 30,
     "metadata": {},
     "output_type": "execute_result"
    },
    {
     "data": {
      "image/png": "[encoded data removed]",
      "text/plain": [
       "<Figure size 432x288 with 1 Axes>"
      ]
     },
     "metadata": {
      "needs_background": "light"
     },
     "output_type": "display_data"
    }
   ],
   "source": [
    "sb.boxplot(dataset.BANDWIDTH_TOTAL, orient=\"v\")"
   ]
  },
  {
   "cell_type": "markdown",
   "metadata": {},
   "source": [
    "### This is regressor case, we can solved it by using these algorithms:\n",
    "* Linear Regression\n",
    "* KNN Regression\n",
    "* Random Forest Regression\n",
    "* SVM Regression"
   ]
  },
  {
   "cell_type": "code",
   "execution_count": 31,
   "metadata": {},
   "outputs": [
    {
     "data": {
      "text/html": [
       "<div>\n",
       "<style scoped>\n",
       "    .dataframe tbody tr th:only-of-type {\n",
       "        vertical-align: middle;\n",
       "    }\n",
       "\n",
       "    .dataframe tbody tr th {\n",
       "        vertical-align: top;\n",
       "    }\n",
       "\n",
       "    .dataframe thead th {\n",
       "        text-align: right;\n",
       "    }\n",
       "</style>\n",
       "<table border=\"1\" class=\"dataframe\">\n",
       "  <thead>\n",
       "    <tr style=\"text-align: right;\">\n",
       "      <th></th>\n",
       "      <th>UPDATE_TIME</th>\n",
       "      <th>ZONE_CODE</th>\n",
       "      <th>HOUR_ID</th>\n",
       "      <th>BANDWIDTH_TOTAL</th>\n",
       "      <th>MAX_USER</th>\n",
       "      <th>DATE_IN_MONTH</th>\n",
       "      <th>DATE_IN_WEEK</th>\n",
       "      <th>DAY_SHIFT</th>\n",
       "    </tr>\n",
       "  </thead>\n",
       "  <tbody>\n",
       "    <tr>\n",
       "      <th>UPDATE_TIME</th>\n",
       "      <td>1.000000</td>\n",
       "      <td>0.032960</td>\n",
       "      <td>0.001460</td>\n",
       "      <td>0.233044</td>\n",
       "      <td>0.154116</td>\n",
       "      <td>-0.006745</td>\n",
       "      <td>0.004290</td>\n",
       "      <td>0.001073</td>\n",
       "    </tr>\n",
       "    <tr>\n",
       "      <th>ZONE_CODE</th>\n",
       "      <td>0.032960</td>\n",
       "      <td>1.000000</td>\n",
       "      <td>0.000041</td>\n",
       "      <td>-0.611186</td>\n",
       "      <td>-0.755793</td>\n",
       "      <td>0.008337</td>\n",
       "      <td>-0.001165</td>\n",
       "      <td>0.000036</td>\n",
       "    </tr>\n",
       "    <tr>\n",
       "      <th>HOUR_ID</th>\n",
       "      <td>0.001460</td>\n",
       "      <td>0.000041</td>\n",
       "      <td>1.000000</td>\n",
       "      <td>0.313592</td>\n",
       "      <td>0.181726</td>\n",
       "      <td>-0.000790</td>\n",
       "      <td>0.000046</td>\n",
       "      <td>0.943551</td>\n",
       "    </tr>\n",
       "    <tr>\n",
       "      <th>BANDWIDTH_TOTAL</th>\n",
       "      <td>0.233044</td>\n",
       "      <td>-0.611186</td>\n",
       "      <td>0.313592</td>\n",
       "      <td>1.000000</td>\n",
       "      <td>0.925587</td>\n",
       "      <td>0.003470</td>\n",
       "      <td>0.035023</td>\n",
       "      <td>0.309379</td>\n",
       "    </tr>\n",
       "    <tr>\n",
       "      <th>MAX_USER</th>\n",
       "      <td>0.154116</td>\n",
       "      <td>-0.755793</td>\n",
       "      <td>0.181726</td>\n",
       "      <td>0.925587</td>\n",
       "      <td>1.000000</td>\n",
       "      <td>0.008498</td>\n",
       "      <td>0.002566</td>\n",
       "      <td>0.183248</td>\n",
       "    </tr>\n",
       "    <tr>\n",
       "      <th>DATE_IN_MONTH</th>\n",
       "      <td>-0.006745</td>\n",
       "      <td>0.008337</td>\n",
       "      <td>-0.000790</td>\n",
       "      <td>0.003470</td>\n",
       "      <td>0.008498</td>\n",
       "      <td>1.000000</td>\n",
       "      <td>-0.017459</td>\n",
       "      <td>-0.000486</td>\n",
       "    </tr>\n",
       "    <tr>\n",
       "      <th>DATE_IN_WEEK</th>\n",
       "      <td>0.004290</td>\n",
       "      <td>-0.001165</td>\n",
       "      <td>0.000046</td>\n",
       "      <td>0.035023</td>\n",
       "      <td>0.002566</td>\n",
       "      <td>-0.017459</td>\n",
       "      <td>1.000000</td>\n",
       "      <td>-0.000120</td>\n",
       "    </tr>\n",
       "    <tr>\n",
       "      <th>DAY_SHIFT</th>\n",
       "      <td>0.001073</td>\n",
       "      <td>0.000036</td>\n",
       "      <td>0.943551</td>\n",
       "      <td>0.309379</td>\n",
       "      <td>0.183248</td>\n",
       "      <td>-0.000486</td>\n",
       "      <td>-0.000120</td>\n",
       "      <td>1.000000</td>\n",
       "    </tr>\n",
       "  </tbody>\n",
       "</table>\n",
       "</div>"
      ],
      "text/plain": [
       "                 UPDATE_TIME  ZONE_CODE   HOUR_ID  BANDWIDTH_TOTAL  MAX_USER  \\\n",
       "UPDATE_TIME         1.000000   0.032960  0.001460         0.233044  0.154116   \n",
       "ZONE_CODE           0.032960   1.000000  0.000041        -0.611186 -0.755793   \n",
       "HOUR_ID             0.001460   0.000041  1.000000         0.313592  0.181726   \n",
       "BANDWIDTH_TOTAL     0.233044  -0.611186  0.313592         1.000000  0.925587   \n",
       "MAX_USER            0.154116  -0.755793  0.181726         0.925587  1.000000   \n",
       "DATE_IN_MONTH      -0.006745   0.008337 -0.000790         0.003470  0.008498   \n",
       "DATE_IN_WEEK        0.004290  -0.001165  0.000046         0.035023  0.002566   \n",
       "DAY_SHIFT           0.001073   0.000036  0.943551         0.309379  0.183248   \n",
       "\n",
       "                 DATE_IN_MONTH  DATE_IN_WEEK  DAY_SHIFT  \n",
       "UPDATE_TIME          -0.006745      0.004290   0.001073  \n",
       "ZONE_CODE             0.008337     -0.001165   0.000036  \n",
       "HOUR_ID              -0.000790      0.000046   0.943551  \n",
       "BANDWIDTH_TOTAL       0.003470      0.035023   0.309379  \n",
       "MAX_USER              0.008498      0.002566   0.183248  \n",
       "DATE_IN_MONTH         1.000000     -0.017459  -0.000486  \n",
       "DATE_IN_WEEK         -0.017459      1.000000  -0.000120  \n",
       "DAY_SHIFT            -0.000486     -0.000120   1.000000  "
      ]
     },
     "execution_count": 31,
     "metadata": {},
     "output_type": "execute_result"
    }
   ],
   "source": [
    "dataset.corr()"
   ]
  },
  {
   "cell_type": "code",
   "execution_count": 32,
   "metadata": {},
   "outputs": [],
   "source": [
    "dataset.to_csv('data/clean_dataset.csv')"
   ]
  },
  {
   "cell_type": "code",
   "execution_count": null,
   "metadata": {},
   "outputs": [],
   "source": []
  }
 ],
 "metadata": {
  "kernelspec": {
   "display_name": "Python 3",
   "language": "python",
   "name": "python3"
  },
  "language_info": {
   "codemirror_mode": {
    "name": "ipython",
    "version": 3
   },
   "file_extension": ".py",
   "mimetype": "text/x-python",
   "name": "python",
   "nbconvert_exporter": "python",
   "pygments_lexer": "ipython3",
   "version": "3.6.5"
  }
 },
 "nbformat": 4,
 "nbformat_minor": 2
}
