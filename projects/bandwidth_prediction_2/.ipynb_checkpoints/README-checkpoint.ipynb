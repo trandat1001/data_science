{
 "cells": [
  {
   "cell_type": "markdown",
   "metadata": {},
   "source": [
    "## Predict server's bandwidth and number of users\n",
    "### Problem:\n",
    "A company providing entertainment platform that allows users to use music, video, live stream, chat services, etc. The company system is divided into zones according to geographical area. To meet the growing number of users, the company wants to predict the total bandwidth of each server and the maximum number of concurrent users accessing the server within the next month to plan operations.\n",
    "See more detail on link: https://www.aivivn.com/contests/5\n",
    "### Data Decription:\n",
    "#### Training data\n",
    "Training data (file train.csv) includes more than 35 thousand rowa. Here are the first five rows.\n",
    "\n",
    "UPDATE_TIME, ZONE_CODE, HOUR_ID, BANDWIDTH_TOTAL, MAX_USER <br>\n",
    "2017-10-01, ZONE01,0,16096.71031272728,212415.0 <br>\n",
    "2017-10-01, ZONE01,1,9374.20790727273,166362.0 <br>\n",
    "2017-10-01, ZONE01,2,5606,225750000003,146370.0 <br>\n",
    "2017-10-01, ZONE01,3,4155.654660909094,141270.0 <br>\n",
    "2017-10-01, ZONE01,4,3253.9785936363623,139689.0 <br>\n",
    "..... <br>\n",
    "**UPDATE_TIME**: execution date for retrieving data <br>\n",
    "**HOUR_ID**: time to retrieve data <br>\n",
    "**ZONE_CODE**: area code <br>\n",
    "**BAND_WIDTH_TOTAL**: the total access bandwidth within 1 hour <br>\n",
    "**MAX_USER**: maximum number of concurrent users within 1 hour (an interger number) <br>\n",
    "#### Test data\n",
    "Test data (file test.csv) includes 2227 rowws:\n",
    "\n",
    "id, UPDATE_TIME, ZONE_CODE, HOUR_ID <br>\n",
    "0.2019-03-10, ZONE01.0 <br>\n",
    "1,2019-03-10, ZONE01,1 <br>\n",
    "2,2019-03-10, ZONE01,2 <br>\n",
    "3,2019-03-10, ZONE01,3 <br>\n",
    "4,2019-03-10, ZONE01,4 <br>\n",
    "5,2019-03-10, ZONE01,5 <br>\n",
    "...<br>\n",
    "In which **UPDATE_TIME**, **HOUR_ID**, **ZONE_CODE** are defined as above.\n",
    "**id** is the corresponding code for the submission file. \n",
    "Teams need **BANDWIDTH_TOTAL**, and **MAX_USER** predictions for each row.\n",
    "#### Final result\n",
    "The required submission file is a .csv file similar to the sample_submission.csv file. For example:<br> \n",
    "id, label <br>\n",
    "0 35.74 271 <br>\n",
    "1 0.77 143 <br>\n",
    ".... <br>\n",
    "Note: \n",
    "**id** is the id column on test data above <br>\n",
    "The first value of label is **BANDWIDTH_TOTAL** rounded to two decimal places, the second value is **MAX_USER**, a natural number. These two values are exactly one space apart. Note there are no spaces after the **MAX_USER** value\n",
    "\n",
    "## Data analyst and pre-processing the dataset\n",
    "Please see file: [analyze_and_visualization.ipynb](analyze_and_visualization.ipynb)\n",
    "\n",
    "## Build predict model\n",
    "This is regressor case, we can solve it by using these algorithms:\n",
    "* Linear Regression, see file [linear_regression.ipynb](linear_regression.ipynb)\n",
    "* KNN Regression, see file [knn_regression.ipynb](knn_regression.ipynb)\n",
    "* Random Forest Regression, see file [random_forest.ipynb](random_forest.ipynb)\n",
    "* SVM Regression, see file [svm_regression.ipynb](svm_regression.ipynb)\n",
    "\n",
    "## Final Solution\n",
    "Base on these algorithm above, we see the KNN Regression and Random Forest have high percent of accuracy. Therfore, we build some final solutions to predict maxUser and bandwidth.\n",
    "* [solution_random_forest_independence_prediction.ipynb](solution_random_forest_independence_prediction.ipynb): Build seprate model to predict max user and bandwidth independently.\n",
    "* [solution_random_forest_predict_one.ipynb](solution_random_forest_predict_one.ipynb): Build a model to predict max user and a model(+ maxUser column) to predict bandwidth.\n",
    "* [solution_random_forest_relative_prediction](solution_random_forest_relative_prediction): Build a model to predict max user, then from maxuser we build a model to predict bandwidth.\n",
    "\n"
   ]
  },
  {
   "cell_type": "code",
   "execution_count": null,
   "metadata": {},
   "outputs": [],
   "source": []
  }
 ],
 "metadata": {
  "kernelspec": {
   "display_name": "Python 3",
   "language": "python",
   "name": "python3"
  },
  "language_info": {
   "codemirror_mode": {
    "name": "ipython",
    "version": 3
   },
   "file_extension": ".py",
   "mimetype": "text/x-python",
   "name": "python",
   "nbconvert_exporter": "python",
   "pygments_lexer": "ipython3",
   "version": "3.6.5"
  }
 },
 "nbformat": 4,
 "nbformat_minor": 2
}
