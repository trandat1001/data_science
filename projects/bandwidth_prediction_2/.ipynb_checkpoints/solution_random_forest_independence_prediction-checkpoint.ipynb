{
 "cells": [
  {
   "cell_type": "code",
   "execution_count": 1,
   "metadata": {},
   "outputs": [],
   "source": [
    "import pandas as pd\n",
    "import numpy as np\n",
    "from datetime import datetime\n",
    "import matplotlib.pyplot as plt\n",
    "import seaborn as sb\n",
    "from sklearn.model_selection import train_test_split\n",
    "import lib as lib"
   ]
  },
  {
   "cell_type": "markdown",
   "metadata": {},
   "source": [
    "### Solution 1:\n",
    "We use random forest algorithm to predict max user and bandwidth independence.<br>\n",
    "The model is build based on data with columns: ***\"ZONE_CODE\", \"HOUR_ID\", \"DATE_IN_WEEK\", \"DAY_SHIFT\"**.<br>\n",
    "The max user is predicted base on data: ***\"ZONE_CODE\", \"HOUR_ID\", \"DATE_IN_WEEK\", \"DAY_SHIFT\"** <br>\n",
    "The bandwidth is also predicted base on data: ***\"ZONE_CODE\", \"HOUR_ID\", \"DATE_IN_WEEK\", \"DAY_SHIFT\"**"
   ]
  },
  {
   "cell_type": "code",
   "execution_count": 2,
   "metadata": {},
   "outputs": [],
   "source": [
    "dataset = pd.read_csv(\"data/clean_dataset.csv\")"
   ]
  },
  {
   "cell_type": "code",
   "execution_count": 3,
   "metadata": {},
   "outputs": [
    {
     "name": "stdout",
     "output_type": "stream",
     "text": [
      "<class 'pandas.core.frame.DataFrame'>\n",
      "RangeIndex: 35544 entries, 0 to 35543\n",
      "Data columns (total 9 columns):\n",
      "Unnamed: 0         35544 non-null int64\n",
      "UPDATE_TIME        35544 non-null int64\n",
      "ZONE_CODE          35544 non-null int64\n",
      "HOUR_ID            35544 non-null int64\n",
      "BANDWIDTH_TOTAL    35544 non-null float64\n",
      "MAX_USER           35544 non-null float64\n",
      "DATE_IN_MONTH      35544 non-null int64\n",
      "DATE_IN_WEEK       35544 non-null int64\n",
      "DAY_SHIFT          35544 non-null int64\n",
      "dtypes: float64(2), int64(7)\n",
      "memory usage: 2.4 MB\n"
     ]
    }
   ],
   "source": [
    "dataset.info()"
   ]
  },
  {
   "cell_type": "code",
   "execution_count": 4,
   "metadata": {},
   "outputs": [
    {
     "data": {
      "text/html": [
       "<div>\n",
       "<style scoped>\n",
       "    .dataframe tbody tr th:only-of-type {\n",
       "        vertical-align: middle;\n",
       "    }\n",
       "\n",
       "    .dataframe tbody tr th {\n",
       "        vertical-align: top;\n",
       "    }\n",
       "\n",
       "    .dataframe thead th {\n",
       "        text-align: right;\n",
       "    }\n",
       "</style>\n",
       "<table border=\"1\" class=\"dataframe\">\n",
       "  <thead>\n",
       "    <tr style=\"text-align: right;\">\n",
       "      <th></th>\n",
       "      <th>Unnamed: 0</th>\n",
       "      <th>UPDATE_TIME</th>\n",
       "      <th>ZONE_CODE</th>\n",
       "      <th>HOUR_ID</th>\n",
       "      <th>BANDWIDTH_TOTAL</th>\n",
       "      <th>MAX_USER</th>\n",
       "      <th>DATE_IN_MONTH</th>\n",
       "      <th>DATE_IN_WEEK</th>\n",
       "      <th>DAY_SHIFT</th>\n",
       "    </tr>\n",
       "  </thead>\n",
       "  <tbody>\n",
       "    <tr>\n",
       "      <th>0</th>\n",
       "      <td>0</td>\n",
       "      <td>1506816000</td>\n",
       "      <td>1</td>\n",
       "      <td>0</td>\n",
       "      <td>16096.710313</td>\n",
       "      <td>212415.0</td>\n",
       "      <td>1</td>\n",
       "      <td>6</td>\n",
       "      <td>0</td>\n",
       "    </tr>\n",
       "    <tr>\n",
       "      <th>1</th>\n",
       "      <td>1</td>\n",
       "      <td>1506816000</td>\n",
       "      <td>1</td>\n",
       "      <td>1</td>\n",
       "      <td>9374.207907</td>\n",
       "      <td>166362.0</td>\n",
       "      <td>1</td>\n",
       "      <td>6</td>\n",
       "      <td>0</td>\n",
       "    </tr>\n",
       "    <tr>\n",
       "      <th>2</th>\n",
       "      <td>2</td>\n",
       "      <td>1506816000</td>\n",
       "      <td>1</td>\n",
       "      <td>2</td>\n",
       "      <td>5606.225750</td>\n",
       "      <td>146370.0</td>\n",
       "      <td>1</td>\n",
       "      <td>6</td>\n",
       "      <td>0</td>\n",
       "    </tr>\n",
       "    <tr>\n",
       "      <th>3</th>\n",
       "      <td>3</td>\n",
       "      <td>1506816000</td>\n",
       "      <td>1</td>\n",
       "      <td>3</td>\n",
       "      <td>4155.654661</td>\n",
       "      <td>141270.0</td>\n",
       "      <td>1</td>\n",
       "      <td>6</td>\n",
       "      <td>0</td>\n",
       "    </tr>\n",
       "    <tr>\n",
       "      <th>4</th>\n",
       "      <td>4</td>\n",
       "      <td>1506816000</td>\n",
       "      <td>1</td>\n",
       "      <td>4</td>\n",
       "      <td>3253.978594</td>\n",
       "      <td>139689.0</td>\n",
       "      <td>1</td>\n",
       "      <td>6</td>\n",
       "      <td>0</td>\n",
       "    </tr>\n",
       "    <tr>\n",
       "      <th>5</th>\n",
       "      <td>5</td>\n",
       "      <td>1506816000</td>\n",
       "      <td>1</td>\n",
       "      <td>5</td>\n",
       "      <td>4310.774522</td>\n",
       "      <td>165342.0</td>\n",
       "      <td>1</td>\n",
       "      <td>6</td>\n",
       "      <td>0</td>\n",
       "    </tr>\n",
       "    <tr>\n",
       "      <th>6</th>\n",
       "      <td>6</td>\n",
       "      <td>1506816000</td>\n",
       "      <td>1</td>\n",
       "      <td>6</td>\n",
       "      <td>10015.599874</td>\n",
       "      <td>221901.0</td>\n",
       "      <td>1</td>\n",
       "      <td>6</td>\n",
       "      <td>0</td>\n",
       "    </tr>\n",
       "    <tr>\n",
       "      <th>7</th>\n",
       "      <td>7</td>\n",
       "      <td>1506816000</td>\n",
       "      <td>1</td>\n",
       "      <td>7</td>\n",
       "      <td>19780.995631</td>\n",
       "      <td>302736.0</td>\n",
       "      <td>1</td>\n",
       "      <td>6</td>\n",
       "      <td>0</td>\n",
       "    </tr>\n",
       "    <tr>\n",
       "      <th>8</th>\n",
       "      <td>8</td>\n",
       "      <td>1506816000</td>\n",
       "      <td>1</td>\n",
       "      <td>8</td>\n",
       "      <td>24344.875025</td>\n",
       "      <td>336600.0</td>\n",
       "      <td>1</td>\n",
       "      <td>6</td>\n",
       "      <td>1</td>\n",
       "    </tr>\n",
       "    <tr>\n",
       "      <th>9</th>\n",
       "      <td>9</td>\n",
       "      <td>1506816000</td>\n",
       "      <td>1</td>\n",
       "      <td>9</td>\n",
       "      <td>28651.427689</td>\n",
       "      <td>356235.0</td>\n",
       "      <td>1</td>\n",
       "      <td>6</td>\n",
       "      <td>1</td>\n",
       "    </tr>\n",
       "  </tbody>\n",
       "</table>\n",
       "</div>"
      ],
      "text/plain": [
       "   Unnamed: 0  UPDATE_TIME  ZONE_CODE  HOUR_ID  BANDWIDTH_TOTAL  MAX_USER  \\\n",
       "0           0   1506816000          1        0     16096.710313  212415.0   \n",
       "1           1   1506816000          1        1      9374.207907  166362.0   \n",
       "2           2   1506816000          1        2      5606.225750  146370.0   \n",
       "3           3   1506816000          1        3      4155.654661  141270.0   \n",
       "4           4   1506816000          1        4      3253.978594  139689.0   \n",
       "5           5   1506816000          1        5      4310.774522  165342.0   \n",
       "6           6   1506816000          1        6     10015.599874  221901.0   \n",
       "7           7   1506816000          1        7     19780.995631  302736.0   \n",
       "8           8   1506816000          1        8     24344.875025  336600.0   \n",
       "9           9   1506816000          1        9     28651.427689  356235.0   \n",
       "\n",
       "   DATE_IN_MONTH  DATE_IN_WEEK  DAY_SHIFT  \n",
       "0              1             6          0  \n",
       "1              1             6          0  \n",
       "2              1             6          0  \n",
       "3              1             6          0  \n",
       "4              1             6          0  \n",
       "5              1             6          0  \n",
       "6              1             6          0  \n",
       "7              1             6          0  \n",
       "8              1             6          1  \n",
       "9              1             6          1  "
      ]
     },
     "execution_count": 4,
     "metadata": {},
     "output_type": "execute_result"
    }
   ],
   "source": [
    "dataset.head(10)"
   ]
  },
  {
   "cell_type": "code",
   "execution_count": 5,
   "metadata": {},
   "outputs": [
    {
     "data": {
      "text/html": [
       "<div>\n",
       "<style scoped>\n",
       "    .dataframe tbody tr th:only-of-type {\n",
       "        vertical-align: middle;\n",
       "    }\n",
       "\n",
       "    .dataframe tbody tr th {\n",
       "        vertical-align: top;\n",
       "    }\n",
       "\n",
       "    .dataframe thead th {\n",
       "        text-align: right;\n",
       "    }\n",
       "</style>\n",
       "<table border=\"1\" class=\"dataframe\">\n",
       "  <thead>\n",
       "    <tr style=\"text-align: right;\">\n",
       "      <th></th>\n",
       "      <th>Unnamed: 0</th>\n",
       "      <th>UPDATE_TIME</th>\n",
       "      <th>ZONE_CODE</th>\n",
       "      <th>HOUR_ID</th>\n",
       "      <th>BANDWIDTH_TOTAL</th>\n",
       "      <th>MAX_USER</th>\n",
       "      <th>DATE_IN_MONTH</th>\n",
       "      <th>DATE_IN_WEEK</th>\n",
       "      <th>DAY_SHIFT</th>\n",
       "    </tr>\n",
       "  </thead>\n",
       "  <tbody>\n",
       "    <tr>\n",
       "      <th>Unnamed: 0</th>\n",
       "      <td>1.000000</td>\n",
       "      <td>0.999740</td>\n",
       "      <td>0.032327</td>\n",
       "      <td>0.002138</td>\n",
       "      <td>0.233774</td>\n",
       "      <td>0.154339</td>\n",
       "      <td>-0.007666</td>\n",
       "      <td>0.004118</td>\n",
       "      <td>0.001711</td>\n",
       "    </tr>\n",
       "    <tr>\n",
       "      <th>UPDATE_TIME</th>\n",
       "      <td>0.999740</td>\n",
       "      <td>1.000000</td>\n",
       "      <td>0.032960</td>\n",
       "      <td>0.001460</td>\n",
       "      <td>0.233044</td>\n",
       "      <td>0.154116</td>\n",
       "      <td>-0.006745</td>\n",
       "      <td>0.004290</td>\n",
       "      <td>0.001073</td>\n",
       "    </tr>\n",
       "    <tr>\n",
       "      <th>ZONE_CODE</th>\n",
       "      <td>0.032327</td>\n",
       "      <td>0.032960</td>\n",
       "      <td>1.000000</td>\n",
       "      <td>0.000041</td>\n",
       "      <td>-0.611186</td>\n",
       "      <td>-0.755793</td>\n",
       "      <td>0.008337</td>\n",
       "      <td>-0.001165</td>\n",
       "      <td>0.000036</td>\n",
       "    </tr>\n",
       "    <tr>\n",
       "      <th>HOUR_ID</th>\n",
       "      <td>0.002138</td>\n",
       "      <td>0.001460</td>\n",
       "      <td>0.000041</td>\n",
       "      <td>1.000000</td>\n",
       "      <td>0.313592</td>\n",
       "      <td>0.181726</td>\n",
       "      <td>-0.000790</td>\n",
       "      <td>0.000046</td>\n",
       "      <td>0.943551</td>\n",
       "    </tr>\n",
       "    <tr>\n",
       "      <th>BANDWIDTH_TOTAL</th>\n",
       "      <td>0.233774</td>\n",
       "      <td>0.233044</td>\n",
       "      <td>-0.611186</td>\n",
       "      <td>0.313592</td>\n",
       "      <td>1.000000</td>\n",
       "      <td>0.925587</td>\n",
       "      <td>0.003470</td>\n",
       "      <td>0.035023</td>\n",
       "      <td>0.309379</td>\n",
       "    </tr>\n",
       "    <tr>\n",
       "      <th>MAX_USER</th>\n",
       "      <td>0.154339</td>\n",
       "      <td>0.154116</td>\n",
       "      <td>-0.755793</td>\n",
       "      <td>0.181726</td>\n",
       "      <td>0.925587</td>\n",
       "      <td>1.000000</td>\n",
       "      <td>0.008498</td>\n",
       "      <td>0.002566</td>\n",
       "      <td>0.183248</td>\n",
       "    </tr>\n",
       "    <tr>\n",
       "      <th>DATE_IN_MONTH</th>\n",
       "      <td>-0.007666</td>\n",
       "      <td>-0.006745</td>\n",
       "      <td>0.008337</td>\n",
       "      <td>-0.000790</td>\n",
       "      <td>0.003470</td>\n",
       "      <td>0.008498</td>\n",
       "      <td>1.000000</td>\n",
       "      <td>-0.017459</td>\n",
       "      <td>-0.000486</td>\n",
       "    </tr>\n",
       "    <tr>\n",
       "      <th>DATE_IN_WEEK</th>\n",
       "      <td>0.004118</td>\n",
       "      <td>0.004290</td>\n",
       "      <td>-0.001165</td>\n",
       "      <td>0.000046</td>\n",
       "      <td>0.035023</td>\n",
       "      <td>0.002566</td>\n",
       "      <td>-0.017459</td>\n",
       "      <td>1.000000</td>\n",
       "      <td>-0.000120</td>\n",
       "    </tr>\n",
       "    <tr>\n",
       "      <th>DAY_SHIFT</th>\n",
       "      <td>0.001711</td>\n",
       "      <td>0.001073</td>\n",
       "      <td>0.000036</td>\n",
       "      <td>0.943551</td>\n",
       "      <td>0.309379</td>\n",
       "      <td>0.183248</td>\n",
       "      <td>-0.000486</td>\n",
       "      <td>-0.000120</td>\n",
       "      <td>1.000000</td>\n",
       "    </tr>\n",
       "  </tbody>\n",
       "</table>\n",
       "</div>"
      ],
      "text/plain": [
       "                 Unnamed: 0  UPDATE_TIME  ZONE_CODE   HOUR_ID  \\\n",
       "Unnamed: 0         1.000000     0.999740   0.032327  0.002138   \n",
       "UPDATE_TIME        0.999740     1.000000   0.032960  0.001460   \n",
       "ZONE_CODE          0.032327     0.032960   1.000000  0.000041   \n",
       "HOUR_ID            0.002138     0.001460   0.000041  1.000000   \n",
       "BANDWIDTH_TOTAL    0.233774     0.233044  -0.611186  0.313592   \n",
       "MAX_USER           0.154339     0.154116  -0.755793  0.181726   \n",
       "DATE_IN_MONTH     -0.007666    -0.006745   0.008337 -0.000790   \n",
       "DATE_IN_WEEK       0.004118     0.004290  -0.001165  0.000046   \n",
       "DAY_SHIFT          0.001711     0.001073   0.000036  0.943551   \n",
       "\n",
       "                 BANDWIDTH_TOTAL  MAX_USER  DATE_IN_MONTH  DATE_IN_WEEK  \\\n",
       "Unnamed: 0              0.233774  0.154339      -0.007666      0.004118   \n",
       "UPDATE_TIME             0.233044  0.154116      -0.006745      0.004290   \n",
       "ZONE_CODE              -0.611186 -0.755793       0.008337     -0.001165   \n",
       "HOUR_ID                 0.313592  0.181726      -0.000790      0.000046   \n",
       "BANDWIDTH_TOTAL         1.000000  0.925587       0.003470      0.035023   \n",
       "MAX_USER                0.925587  1.000000       0.008498      0.002566   \n",
       "DATE_IN_MONTH           0.003470  0.008498       1.000000     -0.017459   \n",
       "DATE_IN_WEEK            0.035023  0.002566      -0.017459      1.000000   \n",
       "DAY_SHIFT               0.309379  0.183248      -0.000486     -0.000120   \n",
       "\n",
       "                 DAY_SHIFT  \n",
       "Unnamed: 0        0.001711  \n",
       "UPDATE_TIME       0.001073  \n",
       "ZONE_CODE         0.000036  \n",
       "HOUR_ID           0.943551  \n",
       "BANDWIDTH_TOTAL   0.309379  \n",
       "MAX_USER          0.183248  \n",
       "DATE_IN_MONTH    -0.000486  \n",
       "DATE_IN_WEEK     -0.000120  \n",
       "DAY_SHIFT         1.000000  "
      ]
     },
     "execution_count": 5,
     "metadata": {},
     "output_type": "execute_result"
    }
   ],
   "source": [
    "dataset.corr()"
   ]
  },
  {
   "cell_type": "code",
   "execution_count": 6,
   "metadata": {},
   "outputs": [],
   "source": [
    "#data = dataset[['DATE_IN_MONTH', 'ZONE_CODE', 'HOUR_ID']]\n",
    "data = dataset[['ZONE_CODE', 'HOUR_ID', 'DATE_IN_WEEK', \"DAY_SHIFT\"]]\n",
    "bandwidth_total = dataset.BANDWIDTH_TOTAL\n",
    "max_user = dataset.MAX_USER"
   ]
  },
  {
   "cell_type": "code",
   "execution_count": 7,
   "metadata": {},
   "outputs": [],
   "source": [
    "from sklearn.model_selection import GridSearchCV\n",
    "from sklearn.model_selection import train_test_split\n",
    "from sklearn.ensemble import RandomForestRegressor\n",
    "from sklearn.metrics import mean_squared_error, r2_score"
   ]
  },
  {
   "cell_type": "code",
   "execution_count": 8,
   "metadata": {},
   "outputs": [
    {
     "data": {
      "text/plain": [
       "RandomForestRegressor(bootstrap=True, criterion='mse', max_depth=None,\n",
       "                      max_features='log2', max_leaf_nodes=None,\n",
       "                      min_impurity_decrease=0.0, min_impurity_split=None,\n",
       "                      min_samples_leaf=1, min_samples_split=2,\n",
       "                      min_weight_fraction_leaf=0.0, n_estimators=200,\n",
       "                      n_jobs=None, oob_score=False, random_state=None,\n",
       "                      verbose=0, warm_start=False)"
      ]
     },
     "execution_count": 8,
     "metadata": {},
     "output_type": "execute_result"
    }
   ],
   "source": [
    "model_bandwidth = RandomForestRegressor(n_estimators = 200, max_features='log2')\n",
    "model_bandwidth.fit(data, bandwidth_total)"
   ]
  },
  {
   "cell_type": "code",
   "execution_count": 9,
   "metadata": {},
   "outputs": [
    {
     "data": {
      "text/plain": [
       "RandomForestRegressor(bootstrap=True, criterion='mse', max_depth=None,\n",
       "                      max_features='auto', max_leaf_nodes=None,\n",
       "                      min_impurity_decrease=0.0, min_impurity_split=None,\n",
       "                      min_samples_leaf=1, min_samples_split=2,\n",
       "                      min_weight_fraction_leaf=0.0, n_estimators=120,\n",
       "                      n_jobs=None, oob_score=False, random_state=None,\n",
       "                      verbose=0, warm_start=False)"
      ]
     },
     "execution_count": 9,
     "metadata": {},
     "output_type": "execute_result"
    }
   ],
   "source": [
    "model_maxUser = RandomForestRegressor(n_estimators = 120, max_features='auto')\n",
    "model_maxUser .fit(data, max_user)"
   ]
  },
  {
   "cell_type": "code",
   "execution_count": 10,
   "metadata": {},
   "outputs": [],
   "source": [
    "raw_test_data = pd.read_csv(\"data/test_id.csv\")"
   ]
  },
  {
   "cell_type": "code",
   "execution_count": 11,
   "metadata": {},
   "outputs": [
    {
     "data": {
      "text/html": [
       "<div>\n",
       "<style scoped>\n",
       "    .dataframe tbody tr th:only-of-type {\n",
       "        vertical-align: middle;\n",
       "    }\n",
       "\n",
       "    .dataframe tbody tr th {\n",
       "        vertical-align: top;\n",
       "    }\n",
       "\n",
       "    .dataframe thead th {\n",
       "        text-align: right;\n",
       "    }\n",
       "</style>\n",
       "<table border=\"1\" class=\"dataframe\">\n",
       "  <thead>\n",
       "    <tr style=\"text-align: right;\">\n",
       "      <th></th>\n",
       "      <th>id</th>\n",
       "      <th>UPDATE_TIME</th>\n",
       "      <th>ZONE_CODE</th>\n",
       "      <th>HOUR_ID</th>\n",
       "    </tr>\n",
       "  </thead>\n",
       "  <tbody>\n",
       "    <tr>\n",
       "      <th>0</th>\n",
       "      <td>0</td>\n",
       "      <td>2019-03-10</td>\n",
       "      <td>ZONE01</td>\n",
       "      <td>0</td>\n",
       "    </tr>\n",
       "    <tr>\n",
       "      <th>1</th>\n",
       "      <td>1</td>\n",
       "      <td>2019-03-10</td>\n",
       "      <td>ZONE01</td>\n",
       "      <td>1</td>\n",
       "    </tr>\n",
       "    <tr>\n",
       "      <th>2</th>\n",
       "      <td>2</td>\n",
       "      <td>2019-03-10</td>\n",
       "      <td>ZONE01</td>\n",
       "      <td>2</td>\n",
       "    </tr>\n",
       "    <tr>\n",
       "      <th>3</th>\n",
       "      <td>3</td>\n",
       "      <td>2019-03-10</td>\n",
       "      <td>ZONE01</td>\n",
       "      <td>3</td>\n",
       "    </tr>\n",
       "    <tr>\n",
       "      <th>4</th>\n",
       "      <td>4</td>\n",
       "      <td>2019-03-10</td>\n",
       "      <td>ZONE01</td>\n",
       "      <td>4</td>\n",
       "    </tr>\n",
       "  </tbody>\n",
       "</table>\n",
       "</div>"
      ],
      "text/plain": [
       "   id UPDATE_TIME ZONE_CODE  HOUR_ID\n",
       "0   0  2019-03-10    ZONE01        0\n",
       "1   1  2019-03-10    ZONE01        1\n",
       "2   2  2019-03-10    ZONE01        2\n",
       "3   3  2019-03-10    ZONE01        3\n",
       "4   4  2019-03-10    ZONE01        4"
      ]
     },
     "execution_count": 11,
     "metadata": {},
     "output_type": "execute_result"
    }
   ],
   "source": [
    "raw_test_data.head()"
   ]
  },
  {
   "cell_type": "code",
   "execution_count": 12,
   "metadata": {},
   "outputs": [],
   "source": [
    "raw_test_data.ZONE_CODE = raw_test_data.ZONE_CODE.map({'ZONE01' : 1, 'ZONE03' : 3, 'ZONE02' : 2})\n",
    "raw_test_data['DATE_IN_MONTH'] =  raw_test_data.UPDATE_TIME.map(lib.get_date_in_month).astype('int32')\n",
    "raw_test_data['DATE_IN_WEEK'] =  raw_test_data.UPDATE_TIME.map(lib.get_date_in_week).astype('int32')\n",
    "raw_test_data['DAY_SHIFT'] =  raw_test_data.HOUR_ID.map(lib.hour_to_shift).astype('int32')\n",
    "raw_test_data.UPDATE_TIME = raw_test_data.UPDATE_TIME.map(lib.convert_datetime_to_timestamp).astype('int32')"
   ]
  },
  {
   "cell_type": "code",
   "execution_count": 13,
   "metadata": {},
   "outputs": [
    {
     "data": {
      "text/html": [
       "<div>\n",
       "<style scoped>\n",
       "    .dataframe tbody tr th:only-of-type {\n",
       "        vertical-align: middle;\n",
       "    }\n",
       "\n",
       "    .dataframe tbody tr th {\n",
       "        vertical-align: top;\n",
       "    }\n",
       "\n",
       "    .dataframe thead th {\n",
       "        text-align: right;\n",
       "    }\n",
       "</style>\n",
       "<table border=\"1\" class=\"dataframe\">\n",
       "  <thead>\n",
       "    <tr style=\"text-align: right;\">\n",
       "      <th></th>\n",
       "      <th>id</th>\n",
       "      <th>UPDATE_TIME</th>\n",
       "      <th>ZONE_CODE</th>\n",
       "      <th>HOUR_ID</th>\n",
       "      <th>DATE_IN_MONTH</th>\n",
       "      <th>DATE_IN_WEEK</th>\n",
       "      <th>DAY_SHIFT</th>\n",
       "    </tr>\n",
       "  </thead>\n",
       "  <tbody>\n",
       "    <tr>\n",
       "      <th>0</th>\n",
       "      <td>0</td>\n",
       "      <td>1552176000</td>\n",
       "      <td>1</td>\n",
       "      <td>0</td>\n",
       "      <td>10</td>\n",
       "      <td>6</td>\n",
       "      <td>0</td>\n",
       "    </tr>\n",
       "    <tr>\n",
       "      <th>1</th>\n",
       "      <td>1</td>\n",
       "      <td>1552176000</td>\n",
       "      <td>1</td>\n",
       "      <td>1</td>\n",
       "      <td>10</td>\n",
       "      <td>6</td>\n",
       "      <td>0</td>\n",
       "    </tr>\n",
       "    <tr>\n",
       "      <th>2</th>\n",
       "      <td>2</td>\n",
       "      <td>1552176000</td>\n",
       "      <td>1</td>\n",
       "      <td>2</td>\n",
       "      <td>10</td>\n",
       "      <td>6</td>\n",
       "      <td>0</td>\n",
       "    </tr>\n",
       "    <tr>\n",
       "      <th>3</th>\n",
       "      <td>3</td>\n",
       "      <td>1552176000</td>\n",
       "      <td>1</td>\n",
       "      <td>3</td>\n",
       "      <td>10</td>\n",
       "      <td>6</td>\n",
       "      <td>0</td>\n",
       "    </tr>\n",
       "    <tr>\n",
       "      <th>4</th>\n",
       "      <td>4</td>\n",
       "      <td>1552176000</td>\n",
       "      <td>1</td>\n",
       "      <td>4</td>\n",
       "      <td>10</td>\n",
       "      <td>6</td>\n",
       "      <td>0</td>\n",
       "    </tr>\n",
       "  </tbody>\n",
       "</table>\n",
       "</div>"
      ],
      "text/plain": [
       "   id  UPDATE_TIME  ZONE_CODE  HOUR_ID  DATE_IN_MONTH  DATE_IN_WEEK  DAY_SHIFT\n",
       "0   0   1552176000          1        0             10             6          0\n",
       "1   1   1552176000          1        1             10             6          0\n",
       "2   2   1552176000          1        2             10             6          0\n",
       "3   3   1552176000          1        3             10             6          0\n",
       "4   4   1552176000          1        4             10             6          0"
      ]
     },
     "execution_count": 13,
     "metadata": {},
     "output_type": "execute_result"
    }
   ],
   "source": [
    "raw_test_data.head()"
   ]
  },
  {
   "cell_type": "code",
   "execution_count": 14,
   "metadata": {},
   "outputs": [],
   "source": [
    "test_data = raw_test_data[['ZONE_CODE', 'HOUR_ID', 'DATE_IN_WEEK', \"DAY_SHIFT\"]]"
   ]
  },
  {
   "cell_type": "code",
   "execution_count": 15,
   "metadata": {},
   "outputs": [],
   "source": [
    "test_bandwidth = model_bandwidth.predict(test_data)\n",
    "test_maxUser = model_maxUser.predict(test_data)"
   ]
  },
  {
   "cell_type": "code",
   "execution_count": 16,
   "metadata": {},
   "outputs": [
    {
     "data": {
      "text/plain": [
       "array([33690.73991968, 19342.71721086, 12587.33060583, ...,\n",
       "        7648.55191249,  5560.64721621,  3316.01810168])"
      ]
     },
     "execution_count": 16,
     "metadata": {},
     "output_type": "execute_result"
    }
   ],
   "source": [
    "test_bandwidth"
   ]
  },
  {
   "cell_type": "code",
   "execution_count": 17,
   "metadata": {},
   "outputs": [
    {
     "data": {
      "text/plain": [
       "array([33690.74, 19342.72, 12587.33, ...,  7648.55,  5560.65,  3316.02])"
      ]
     },
     "execution_count": 17,
     "metadata": {},
     "output_type": "execute_result"
    }
   ],
   "source": [
    "test_bandwidth = np.around(test_bandwidth, decimals=2)\n",
    "test_bandwidth"
   ]
  },
  {
   "cell_type": "code",
   "execution_count": 18,
   "metadata": {},
   "outputs": [
    {
     "data": {
      "text/plain": [
       "array([440168.132886  , 330831.4422039 , 279024.268104  , ...,\n",
       "        49639.62368635,  40428.21622725,  30848.69262746])"
      ]
     },
     "execution_count": 18,
     "metadata": {},
     "output_type": "execute_result"
    }
   ],
   "source": [
    "test_maxUser"
   ]
  },
  {
   "cell_type": "code",
   "execution_count": 19,
   "metadata": {},
   "outputs": [
    {
     "data": {
      "text/plain": [
       "array([440168., 330831., 279024., ...,  49640.,  40428.,  30849.])"
      ]
     },
     "execution_count": 19,
     "metadata": {},
     "output_type": "execute_result"
    }
   ],
   "source": [
    "test_maxUser = np.round(test_maxUser)\n",
    "test_maxUser"
   ]
  },
  {
   "cell_type": "code",
   "execution_count": 20,
   "metadata": {},
   "outputs": [],
   "source": [
    "final_test_data = pd.DataFrame({'id': raw_test_data['id'], 'bandwidth': test_bandwidth,\"max_user\": test_maxUser})"
   ]
  },
  {
   "cell_type": "code",
   "execution_count": 21,
   "metadata": {},
   "outputs": [],
   "source": [
    "final_test_data['label'] = final_test_data[['bandwidth', 'max_user']].apply(lambda x: '{} {}'.format(x[0],x[1]), axis=1)"
   ]
  },
  {
   "cell_type": "code",
   "execution_count": 22,
   "metadata": {},
   "outputs": [],
   "source": [
    "export_test_data = final_test_data[['id', 'label']]"
   ]
  },
  {
   "cell_type": "code",
   "execution_count": 23,
   "metadata": {},
   "outputs": [],
   "source": [
    "export_test_data.to_csv(\"data/random_forest_independence_prediction.csv\", index=False)"
   ]
  },
  {
   "cell_type": "code",
   "execution_count": 24,
   "metadata": {},
   "outputs": [
    {
     "data": {
      "text/html": [
       "<div>\n",
       "<style scoped>\n",
       "    .dataframe tbody tr th:only-of-type {\n",
       "        vertical-align: middle;\n",
       "    }\n",
       "\n",
       "    .dataframe tbody tr th {\n",
       "        vertical-align: top;\n",
       "    }\n",
       "\n",
       "    .dataframe thead th {\n",
       "        text-align: right;\n",
       "    }\n",
       "</style>\n",
       "<table border=\"1\" class=\"dataframe\">\n",
       "  <thead>\n",
       "    <tr style=\"text-align: right;\">\n",
       "      <th></th>\n",
       "      <th>id</th>\n",
       "      <th>label</th>\n",
       "    </tr>\n",
       "  </thead>\n",
       "  <tbody>\n",
       "    <tr>\n",
       "      <th>0</th>\n",
       "      <td>0</td>\n",
       "      <td>33690.74 440168.0</td>\n",
       "    </tr>\n",
       "    <tr>\n",
       "      <th>1</th>\n",
       "      <td>1</td>\n",
       "      <td>19342.72 330831.0</td>\n",
       "    </tr>\n",
       "    <tr>\n",
       "      <th>2</th>\n",
       "      <td>2</td>\n",
       "      <td>12587.33 279024.0</td>\n",
       "    </tr>\n",
       "    <tr>\n",
       "      <th>3</th>\n",
       "      <td>3</td>\n",
       "      <td>9047.19 251105.0</td>\n",
       "    </tr>\n",
       "    <tr>\n",
       "      <th>4</th>\n",
       "      <td>4</td>\n",
       "      <td>7534.05 245496.0</td>\n",
       "    </tr>\n",
       "  </tbody>\n",
       "</table>\n",
       "</div>"
      ],
      "text/plain": [
       "   id              label\n",
       "0   0  33690.74 440168.0\n",
       "1   1  19342.72 330831.0\n",
       "2   2  12587.33 279024.0\n",
       "3   3   9047.19 251105.0\n",
       "4   4   7534.05 245496.0"
      ]
     },
     "execution_count": 24,
     "metadata": {},
     "output_type": "execute_result"
    }
   ],
   "source": [
    "export_test_data.head()"
   ]
  },
  {
   "cell_type": "code",
   "execution_count": null,
   "metadata": {},
   "outputs": [],
   "source": []
  }
 ],
 "metadata": {
  "kernelspec": {
   "display_name": "Python 3",
   "language": "python",
   "name": "python3"
  },
  "language_info": {
   "codemirror_mode": {
    "name": "ipython",
    "version": 3
   },
   "file_extension": ".py",
   "mimetype": "text/x-python",
   "name": "python",
   "nbconvert_exporter": "python",
   "pygments_lexer": "ipython3",
   "version": "3.6.5"
  }
 },
 "nbformat": 4,
 "nbformat_minor": 2
}
